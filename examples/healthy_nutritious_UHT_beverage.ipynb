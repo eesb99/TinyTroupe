{
 "cells": [
  {
   "cell_type": "markdown",
   "metadata": {},
   "source": [
    "# Healthy Nutritious UHT Beverage\n",
    "\n",
    "The market for healthy and nutritious UHT (Ultra-High Temperature) beverages is evolving rapidly. With increasing consumer awareness about health and wellness, there's a growing demand for convenient yet nutritious drink options. Let's conduct some **simulated market research** to explore the potential market for a new innovative UHT beverage product in various global markets."
   ]
  },
  {
   "cell_type": "code",
   "execution_count": 1,
   "metadata": {},
   "outputs": [
    {
     "name": "stdout",
     "output_type": "stream",
     "text": [
      "\n",
      "!!!!\n",
      "DISCLAIMER: TinyTroupe relies on Artificial Intelligence (AI) models to generate content. \n",
      "The AI models are not perfect and may produce inappropriate or inacurate results. \n",
      "For any serious or consequential use, please review the generated content before using it.\n",
      "!!!!\n",
      "\n",
      "Looking for default config on: d:\\windsurf_ai\\TinyTroupe\\examples\\..\\tinytroupe\\config.ini\n",
      "Found custom config on: d:\\windsurf_ai\\TinyTroupe\\examples\\config.ini\n",
      "\n",
      "=================================\n",
      "Current TinyTroupe configuration \n",
      "=================================\n",
      "[OpenAI]\n",
      "api_type = openai\n",
      "azure_api_version = 2023-05-15\n",
      "model = gpt-4o-mini\n",
      "max_tokens = 4000\n",
      "temperature = 0.9\n",
      "freq_penalty = 0.3\n",
      "presence_penalty = 0.0\n",
      "timeout = 60\n",
      "max_attempts = 5\n",
      "waiting_time = 2\n",
      "exponential_backoff_factor = 5\n",
      "embedding_model = text-embedding-3-small\n",
      "cache_api_calls = False\n",
      "cache_file_name = openai_api_cache.pickle\n",
      "max_content_display_length = 1024\n",
      "\n",
      "[Simulation]\n",
      "rai_harmful_content_prevention = True\n",
      "rai_copyright_infringement_prevention = True\n",
      "\n",
      "[Logging]\n",
      "loglevel = ERROR\n",
      "\n"
     ]
    }
   ],
   "source": [
    "import json\n",
    "import sys\n",
    "import pandas as pd\n",
    "import matplotlib.pyplot as plt\n",
    "\n",
    "sys.path.insert(0, '..')\n",
    "\n",
    "import tinytroupe\n",
    "from tinytroupe.agent import TinyPerson\n",
    "from tinytroupe.environment import TinyWorld\n",
    "from tinytroupe.factory import TinyPersonFactory\n",
    "from tinytroupe.validation import TinyPersonValidator\n",
    "from tinytroupe import control\n",
    "\n",
    "from tinytroupe.extraction import ResultsExtractor\n",
    "from tinytroupe.profiling import Profiler"
   ]
  },
  {
   "cell_type": "markdown",
   "metadata": {},
   "source": [
    "First of all, we'll use a cached simulation, to avoid having to recompute expensive steps unless really necessary. We accomplish this via the `control.begin()` function. The file it takes as an argument is the cache file that will be created and then updated as needed.\n",
    "\n",
    "**Tip:** the \".cache.\" naming convention is used to indicate that the file is a cache file and will not be committed to the repository."
   ]
  },
  {
   "cell_type": "code",
   "execution_count": 2,
   "metadata": {},
   "outputs": [],
   "source": [
    "# Use the output directory for the cache file\n",
    "control.begin(\"healthy_nutritious_UHT_beverage.cache.json\")"
   ]
  },
  {
   "cell_type": "markdown",
   "metadata": {},
   "source": [
    "## Prepare the survey and auxiliary elements"
   ]
  },
  {
   "cell_type": "markdown",
   "metadata": {},
   "source": [
    "Main target nationality and population size."
   ]
  },
  {
   "cell_type": "code",
   "execution_count": 3,
   "metadata": {},
   "outputs": [],
   "source": [
    "target_nationality = \"Malaysian\"\n",
    "population_size = 1"
   ]
  },
  {
   "cell_type": "markdown",
   "metadata": {},
   "source": [
    "Should we also compute the other nationalities? This might take a while, so we leave it as an option."
   ]
  },
  {
   "cell_type": "code",
   "execution_count": 4,
   "metadata": {},
   "outputs": [],
   "source": [
    "compute_other_nationalities = True"
   ]
  },
  {
   "cell_type": "markdown",
   "metadata": {},
   "source": [
    "Descriptions and standard questions for the survey."
   ]
  },
  {
   "cell_type": "code",
   "execution_count": 5,
   "metadata": {},
   "outputs": [],
   "source": [
    "def general_context(nationality=\"Malaysian\"):\n",
    "    return  f\"\"\"\n",
    "           We are conducting comprehensive market research across {nationality} population to assess the potential for a new healthy UHT beverage product. Our goal is to gather a **representative random sample** that accurately reflects {nationality} consumers' preferences, particularly their beverage consumption habits and health consciousness.\n",
    "           \n",
    "           The sample will encompass the rich demographic diversity, including:\n",
    "             - Various income levels across socioeconomic groups\n",
    "             - Age groups: from young adults to senior citizens\n",
    "             - Lifestyle choices: health-conscious to convenience-oriented\n",
    "             - Cultural backgrounds: representing the diverse society\n",
    "             - Educational backgrounds: across all levels\n",
    "             - Occupations: from various professional sectors\n",
    "             - Living environments: urban and suburban areas\n",
    "             - Health awareness: from highly health-conscious to casual consumers\n",
    "             - Shopping preferences: across different retail channels\n",
    "              \"\"\"\n",
    "\n",
    "interviewer_introduction =\\\n",
    "    \"\"\"\n",
    " We are conducting a market survey about healthy beverage preferences in Malaysia. \n",
    " Could you please introduce yourself and share your top 10 interests, particularly those related to your lifestyle, health, and daily beverage consumption habits?\n",
    "    \"\"\"\n",
    "\n",
    "interviewer_main_question =\\\n",
    "    \"\"\" \n",
    "If you saw a new healthy UHT beverage in your local supermarket today, would you purchase it? Please explain why or why not? \n",
    "\n",
    "We value your honest opinion and there are no right or wrong answers. Consider your current lifestyle, health preferences, daily routine, and budget when answering. Think about factors like:\n",
    "- Your typical beverage choices\n",
    "- Price sensitivity\n",
    "- Health considerations\n",
    "- Convenience needs\n",
    "\n",
    "Please start your response with either \"Yes, \", \"No, \" or \"Maybe, \" followed by your explanation.\n",
    "    \"\"\""
   ]
  },
  {
   "cell_type": "markdown",
   "metadata": {},
   "source": [
    "Common mechaniss."
   ]
  },
  {
   "cell_type": "code",
   "execution_count": 6,
   "metadata": {},
   "outputs": [],
   "source": [
    "results_extractor = ResultsExtractor(\n",
    "    extraction_objective=(\n",
    "        \"Find whether the person would buy a healthy UHT beverage product in Malaysia. \"\n",
    "        \"A person can say Yes, No or Maybe.\"\n",
    "    ),\n",
    "    situation=(\n",
    "        \"Agent was asked about their interest in purchasing a new healthy UHT beverage \"\n",
    "        \"from their local supermarket. They can respond with Yes, No or Maybe.\"\n",
    "    ),\n",
    "    fields=[\"response\", \"justification\"],\n",
    "    fields_hints={\n",
    "        \"response\": (\n",
    "            \"Must be a string formatted exactly as 'Yes', 'No', 'Maybe' or 'N/A'\"\n",
    "            \"(if there is no response).\"\n",
    "        ),\n",
    "        \"justification\": (\n",
    "            \"Reasons for the decision including factors like price, health benefits, \"\n",
    "            \"convenience, and storage in Malaysian climate\"\n",
    "        ),\n",
    "    },\n",
    "    verbose=True\n",
    ")"
   ]
  },
  {
   "cell_type": "markdown",
   "metadata": {},
   "source": [
    "A function that will give us the statistics and then recommend us if we should go ahead and start a Nutritious UHT beverage business."
   ]
  },
  {
   "cell_type": "code",
   "execution_count": 7,
   "metadata": {},
   "outputs": [],
   "source": [
    "def is_there_a_good_market(df, yes_threshold=0.15, no_threshold=0.45):\n",
    "    \"\"\"\n",
    "    Analyze market potential for healthy UHT beverage in Malaysian market.\n",
    "    \n",
    "    Args:\n",
    "        df: DataFrame with survey responses\n",
    "        yes_threshold: Minimum percentage of 'Yes' responses needed (default: 15%)\n",
    "        no_threshold: Maximum percentage of 'No' responses allowed (default: 45%)\n",
    "    \"\"\"\n",
    "    # Get response distribution\n",
    "    counts = df[\"response\"].value_counts()\n",
    "    total = counts.sum()\n",
    "    percentage = counts / total\n",
    "\n",
    "    # Calculate and display response percentages\n",
    "    percentage_yes = percentage.get(\"Yes\", 0)\n",
    "    print(f\"Positive responses: {percentage_yes:.2%}\")\n",
    "\n",
    "    percentage_no = percentage.get(\"No\", 0)\n",
    "    print(f\"Negative responses: {percentage_no:.2%}\")\n",
    "\n",
    "    percentage_maybe = percentage.get(\"Maybe\", 0)\n",
    "    print(f\"Potential customers: {percentage_maybe:.2%}\")\n",
    "\n",
    "    percentage_na = percentage.get(\"N/A\", 0)\n",
    "    print(f\"No response: {percentage_na:.2%}\")\n",
    "\n",
    "    # Market viability analysis\n",
    "    if percentage_yes > yes_threshold and percentage_no < no_threshold:\n",
    "        print(\"\\nVERDICT: The Malaysian market shows good potential for a healthy UHT beverage.\")\n",
    "        return True\n",
    "    else:\n",
    "        print(\"\\nVERDICT: The Malaysian market may need more analysis or product adjustment.\")\n",
    "        return False\n",
    "\n"
   ]
  },
  {
   "cell_type": "markdown",
   "metadata": {},
   "source": [
    "## Build the audience\n",
    "\n",
    "Summon an audience out of thin simulated air. To do so, we build a factory whose context defines our problem and target audience. Actual agents will be later sampled from this factory."
   ]
  },
  {
   "cell_type": "code",
   "execution_count": 8,
   "metadata": {},
   "outputs": [],
   "source": [
    "factory = TinyPersonFactory(general_context(target_nationality))"
   ]
  },
  {
   "cell_type": "markdown",
   "metadata": {},
   "source": [
    "We can request a specific number of people."
   ]
  },
  {
   "cell_type": "code",
   "execution_count": 9,
   "metadata": {},
   "outputs": [
    {
     "name": "stdout",
     "output_type": "stream",
     "text": [
      "Generated person 1/1: Aisha Rahman is a 29 year old Marketing Executive, Malaysian, currently living in Malaysia. Aisha Rahman is not only dedicated to her role as a Marketing Executive but also embodies a vibrant and outgoing personality that makes her a natural networker. Her passion for health and wellness extends beyond her professional life; she enjoys cooking healthy meals and experimenting with new recipes, often sharing these culinary adventures with her best friend Farah. Aisha's competitive spirit drives her to stay updated on digital marketing trends, and she actively seeks out workshops to enhance her skills in consumer behavior and sustainable practices. Despite feeling slightly stressed about upcoming deadlines, her positive outlook helps her navigate challenges while maintaining a strong commitment to excellence in all her endeavors.\n"
     ]
    }
   ],
   "source": [
    "people = factory.generate_people(population_size, verbose=True)"
   ]
  },
  {
   "cell_type": "markdown",
   "metadata": {},
   "source": [
    "A quick look into the folks that were created:"
   ]
  },
  {
   "cell_type": "code",
   "execution_count": 10,
   "metadata": {},
   "outputs": [
    {
     "data": {
      "text/plain": [
       "[\"Aisha Rahman is a 29 year old Marketing Executive, Malaysian, currently living in Malaysia. Aisha Rahman is not only dedicated to her role as a Marketing Executive but also embodies a vibrant and outgoing personality that makes her a natural networker. Her passion for health and wellness extends beyond her professional life; she enjoys cooking healthy meals and experimenting with new recipes, often sharing these culinary adventures with her best friend Farah. Aisha's competitive spirit drives her to stay updated on digital marketing trends, and she actively seeks out workshops to enhance her skills in consumer behavior and sustainable practices. Despite feeling slightly stressed about upcoming deadlines, her positive outlook helps her navigate challenges while maintaining a strong commitment to excellence in all her endeavors.\"]"
      ]
     },
     "execution_count": 10,
     "metadata": {},
     "output_type": "execute_result"
    }
   ],
   "source": [
    "factory.generated_minibios"
   ]
  },
  {
   "cell_type": "markdown",
   "metadata": {},
   "source": [
    "Checkpoint the simulation state to disk, to avoid having to re-run the expensive agent sampling process, unless really necessary."
   ]
  },
  {
   "cell_type": "code",
   "execution_count": 11,
   "metadata": {},
   "outputs": [],
   "source": [
    "control.checkpoint()"
   ]
  },
  {
   "cell_type": "markdown",
   "metadata": {},
   "source": [
    "Now let's enclose the audience in an environment, to make it easier to interact with. Note that we set `broadcast_if_no_target` to `False`, which instructs the environment to **do not** broadcast what specific agents say to the others (unless the agent deliberately specify the target). We are not simulating a focus group, so we don't want discussions.\n"
   ]
  },
  {
   "cell_type": "code",
   "execution_count": 12,
   "metadata": {},
   "outputs": [],
   "source": [
    "market = TinyWorld(f\"Target audience ({target_nationality})\", people, broadcast_if_no_target=False)"
   ]
  },
  {
   "cell_type": "markdown",
   "metadata": {},
   "source": [
    "## Perform the research\n",
    "\n",
    "Now we actually ask agents about their opinion. Note that we are asking for specific answers (Yes, No, Maybe), both to convey the granularity of preference we seek, and to make it easier to extract the results later. In general, a coarser granuarity is likely to have higher quality, since it requires less information to be computed accurately."
   ]
  },
  {
   "cell_type": "code",
   "execution_count": 13,
   "metadata": {},
   "outputs": [
    {
     "data": {
      "text/html": [
       "<pre style=\"margin:0px;;white-space:pre;overflow-x:auto;line-height:normal;font-family:Menlo,'DejaVu Sans Mono',consolas,'Courier New',monospace\"><span style=\"color: #00ffff; text-decoration-color: #00ffff; font-weight: bold; font-style: italic; text-decoration: underline\">USER</span><span style=\"color: #00ffff; text-decoration-color: #00ffff; font-weight: bold; font-style: italic\"> --&gt; </span><span style=\"color: #00ffff; text-decoration-color: #00ffff; font-weight: bold; font-style: italic; text-decoration: underline\">Aisha Rahman</span><span style=\"color: #00ffff; text-decoration-color: #00ffff; font-weight: bold; font-style: italic\">: [CONVERSATION] </span>\n",
       "<span style=\"color: #00ffff; text-decoration-color: #00ffff; font-weight: bold; font-style: italic\">          &gt;   We are conducting a market survey about healthy beverage preferences in Malaysia.</span>\n",
       "<span style=\"color: #00ffff; text-decoration-color: #00ffff; font-weight: bold; font-style: italic\">          &gt; Could you please introduce yourself and share your top 10 interests, particularly those</span>\n",
       "<span style=\"color: #00ffff; text-decoration-color: #00ffff; font-weight: bold; font-style: italic\">          &gt; related to your lifestyle, health, and daily beverage consumption habits?</span>\n",
       "</pre>\n"
      ],
      "text/plain": [
       "\u001b[1;3;4;38;5;51mUSER\u001b[0m\u001b[1;3;38;5;51m --> \u001b[0m\u001b[1;3;4;38;5;51mAisha Rahman\u001b[0m\u001b[1;3;38;5;51m: \u001b[0m\u001b[1;3;38;5;51m[\u001b[0m\u001b[1;3;38;5;51mCONVERSATION\u001b[0m\u001b[1;3;38;5;51m]\u001b[0m\u001b[1;3;38;5;51m \u001b[0m\n",
       "\u001b[1;3;38;5;51m          >   We are conducting a market survey about healthy beverage preferences in Malaysia.\u001b[0m\n",
       "\u001b[1;3;38;5;51m          > Could you please introduce yourself and share your top \u001b[0m\u001b[1;3;38;5;51m10\u001b[0m\u001b[1;3;38;5;51m interests, particularly those\u001b[0m\n",
       "\u001b[1;3;38;5;51m          > related to your lifestyle, health, and daily beverage consumption habits?\u001b[0m\n"
      ]
     },
     "metadata": {},
     "output_type": "display_data"
    },
    {
     "data": {
      "text/html": [
       "<pre style=\"margin:0px;;white-space:pre;overflow-x:auto;line-height:normal;font-family:Menlo,'DejaVu Sans Mono',consolas,'Courier New',monospace\"><span style=\"color: #00ffff; text-decoration-color: #00ffff; font-weight: bold; font-style: italic; text-decoration: underline\">USER</span><span style=\"color: #00ffff; text-decoration-color: #00ffff; font-weight: bold; font-style: italic\"> --&gt; </span><span style=\"color: #00ffff; text-decoration-color: #00ffff; font-weight: bold; font-style: italic; text-decoration: underline\">Aisha Rahman</span><span style=\"color: #00ffff; text-decoration-color: #00ffff; font-weight: bold; font-style: italic\">: [CONVERSATION] </span>\n",
       "<span style=\"color: #00ffff; text-decoration-color: #00ffff; font-weight: bold; font-style: italic\">          &gt;   If you saw a new healthy UHT beverage in your local supermarket today, would you</span>\n",
       "<span style=\"color: #00ffff; text-decoration-color: #00ffff; font-weight: bold; font-style: italic\">          &gt; purchase it? Please explain why or why not?   We value your honest opinion and there are</span>\n",
       "<span style=\"color: #00ffff; text-decoration-color: #00ffff; font-weight: bold; font-style: italic\">          &gt; no right or wrong answers. Consider your current lifestyle, health preferences, daily</span>\n",
       "<span style=\"color: #00ffff; text-decoration-color: #00ffff; font-weight: bold; font-style: italic\">          &gt; routine, and budget when answering. Think about factors like: - Your typical beverage</span>\n",
       "<span style=\"color: #00ffff; text-decoration-color: #00ffff; font-weight: bold; font-style: italic\">          &gt; choices - Price sensitivity - Health considerations - Convenience needs  Please start</span>\n",
       "<span style=\"color: #00ffff; text-decoration-color: #00ffff; font-weight: bold; font-style: italic\">          &gt; your response with either \"Yes, \", \"No, \" or \"Maybe, \" followed by your explanation.</span>\n",
       "</pre>\n"
      ],
      "text/plain": [
       "\u001b[1;3;4;38;5;51mUSER\u001b[0m\u001b[1;3;38;5;51m --> \u001b[0m\u001b[1;3;4;38;5;51mAisha Rahman\u001b[0m\u001b[1;3;38;5;51m: \u001b[0m\u001b[1;3;38;5;51m[\u001b[0m\u001b[1;3;38;5;51mCONVERSATION\u001b[0m\u001b[1;3;38;5;51m]\u001b[0m\u001b[1;3;38;5;51m \u001b[0m\n",
       "\u001b[1;3;38;5;51m          >   If you saw a new healthy UHT beverage in your local supermarket today, would you\u001b[0m\n",
       "\u001b[1;3;38;5;51m          > purchase it? Please explain why or why not?   We value your honest opinion and there are\u001b[0m\n",
       "\u001b[1;3;38;5;51m          > no right or wrong answers. Consider your current lifestyle, health preferences, daily\u001b[0m\n",
       "\u001b[1;3;38;5;51m          > routine, and budget when answering. Think about factors like: - Your typical beverage\u001b[0m\n",
       "\u001b[1;3;38;5;51m          > choices - Price sensitivity - Health considerations - Convenience needs  Please start\u001b[0m\n",
       "\u001b[1;3;38;5;51m          > your response with either \u001b[0m\u001b[1;3;38;5;51m\"Yes, \"\u001b[0m\u001b[1;3;38;5;51m, \u001b[0m\u001b[1;3;38;5;51m\"No, \"\u001b[0m\u001b[1;3;38;5;51m or \u001b[0m\u001b[1;3;38;5;51m\"Maybe, \"\u001b[0m\u001b[1;3;38;5;51m followed by your explanation.\u001b[0m\n"
      ]
     },
     "metadata": {},
     "output_type": "display_data"
    }
   ],
   "source": [
    "market.broadcast(interviewer_introduction)\n",
    "market.broadcast(interviewer_main_question)"
   ]
  },
  {
   "cell_type": "code",
   "execution_count": 14,
   "metadata": {},
   "outputs": [
    {
     "data": {
      "text/html": [
       "<pre style=\"margin:0px;;white-space:pre;overflow-x:auto;line-height:normal;font-family:Menlo,'DejaVu Sans Mono',consolas,'Courier New',monospace\"><span style=\"color: #00ff00; text-decoration-color: #00ff00\">───────────────────────────────────── </span>Target audience <span style=\"font-weight: bold\">(</span>Malaysian<span style=\"font-weight: bold\">)</span> step <span style=\"color: #008080; text-decoration-color: #008080; font-weight: bold\">1</span> of <span style=\"color: #008080; text-decoration-color: #008080; font-weight: bold\">1</span><span style=\"color: #00ff00; text-decoration-color: #00ff00\"> ─────────────────────────────────────</span>\n",
       "</pre>\n"
      ],
      "text/plain": [
       "\u001b[92m───────────────────────────────────── \u001b[0mTarget audience \u001b[1m(\u001b[0mMalaysian\u001b[1m)\u001b[0m step \u001b[1;36m1\u001b[0m of \u001b[1;36m1\u001b[0m\u001b[92m ─────────────────────────────────────\u001b[0m\n"
      ]
     },
     "metadata": {},
     "output_type": "display_data"
    },
    {
     "data": {
      "text/html": [
       "<pre style=\"margin:0px;;white-space:pre;overflow-x:auto;line-height:normal;font-family:Menlo,'DejaVu Sans Mono',consolas,'Courier New',monospace\"><span style=\"color: #008000; text-decoration-color: #008000; text-decoration: underline\">Aisha Rahman</span><span style=\"color: #008000; text-decoration-color: #008000\"> acts: </span><span style=\"color: #008000; text-decoration-color: #008000; font-weight: bold\">[</span><span style=\"color: #008000; text-decoration-color: #008000\">THINK</span><span style=\"color: #008000; text-decoration-color: #008000; font-weight: bold\">]</span><span style=\"color: #008000; text-decoration-color: #008000\"> </span>\n",
       "<span style=\"color: #008000; text-decoration-color: #008000\">                  &gt; I need to introduce myself and share my interests related to lifestyle, health,</span>\n",
       "<span style=\"color: #008000; text-decoration-color: #008000\">                  &gt; and beverage consumption. I should also consider my response to the question</span>\n",
       "<span style=\"color: #008000; text-decoration-color: #008000\">                  &gt; about purchasing a new healthy UHT beverage, reflecting on my typical choices,</span>\n",
       "<span style=\"color: #008000; text-decoration-color: #008000\">                  &gt; price sensitivity, health considerations, and convenience needs.</span>\n",
       "</pre>\n"
      ],
      "text/plain": [
       "\u001b[4;32mAisha Rahman\u001b[0m\u001b[32m acts: \u001b[0m\u001b[1;32m[\u001b[0m\u001b[32mTHINK\u001b[0m\u001b[1;32m]\u001b[0m\u001b[32m \u001b[0m\n",
       "\u001b[32m                  > I need to introduce myself and share my interests related to lifestyle, health,\u001b[0m\n",
       "\u001b[32m                  > and beverage consumption. I should also consider my response to the question\u001b[0m\n",
       "\u001b[32m                  > about purchasing a new healthy UHT beverage, reflecting on my typical choices,\u001b[0m\n",
       "\u001b[32m                  > price sensitivity, health considerations, and convenience needs.\u001b[0m\n"
      ]
     },
     "metadata": {},
     "output_type": "display_data"
    },
    {
     "data": {
      "text/html": [
       "<pre style=\"margin:0px;;white-space:pre;overflow-x:auto;line-height:normal;font-family:Menlo,'DejaVu Sans Mono',consolas,'Courier New',monospace\"><span style=\"color: #00d700; text-decoration-color: #00d700; font-weight: bold; text-decoration: underline\">Aisha Rahman</span><span style=\"color: #00d700; text-decoration-color: #00d700; font-weight: bold\"> acts: [TALK] </span>\n",
       "<span style=\"color: #00d700; text-decoration-color: #00d700; font-weight: bold\">                  &gt; Hello, my name is Aisha Rahman. I am </span><span style=\"color: #00d700; text-decoration-color: #00d700; font-weight: bold\">29</span><span style=\"color: #00d700; text-decoration-color: #00d700; font-weight: bold\"> years old and I work as a marketing</span>\n",
       "<span style=\"color: #00d700; text-decoration-color: #00d700; font-weight: bold\">                  &gt; executive in a health food company. My top interests related to my lifestyle and</span>\n",
       "<span style=\"color: #00d700; text-decoration-color: #00d700; font-weight: bold\">                  &gt; health include cooking healthy meals, exploring digital marketing trends,</span>\n",
       "<span style=\"color: #00d700; text-decoration-color: #00d700; font-weight: bold\">                  &gt; attending workshops on consumer behavior, hiking, reading health-related books,</span>\n",
       "<span style=\"color: #00d700; text-decoration-color: #00d700; font-weight: bold\">                  &gt; experimenting with new recipes, analyzing market data, promoting sustainable</span>\n",
       "<span style=\"color: #00d700; text-decoration-color: #00d700; font-weight: bold\">                  &gt; practices, engaging in fitness activities, and staying updated on health and</span>\n",
       "<span style=\"color: #00d700; text-decoration-color: #00d700; font-weight: bold\">                  &gt; wellness news.</span>\n",
       "</pre>\n"
      ],
      "text/plain": [
       "\u001b[1;4;38;5;40mAisha Rahman\u001b[0m\u001b[1;38;5;40m acts: \u001b[0m\u001b[1;38;5;40m[\u001b[0m\u001b[1;38;5;40mTALK\u001b[0m\u001b[1;38;5;40m]\u001b[0m\u001b[1;38;5;40m \u001b[0m\n",
       "\u001b[1;38;5;40m                  > Hello, my name is Aisha Rahman. I am \u001b[0m\u001b[1;38;5;40m29\u001b[0m\u001b[1;38;5;40m years old and I work as a marketing\u001b[0m\n",
       "\u001b[1;38;5;40m                  > executive in a health food company. My top interests related to my lifestyle and\u001b[0m\n",
       "\u001b[1;38;5;40m                  > health include cooking healthy meals, exploring digital marketing trends,\u001b[0m\n",
       "\u001b[1;38;5;40m                  > attending workshops on consumer behavior, hiking, reading health-related books,\u001b[0m\n",
       "\u001b[1;38;5;40m                  > experimenting with new recipes, analyzing market data, promoting sustainable\u001b[0m\n",
       "\u001b[1;38;5;40m                  > practices, engaging in fitness activities, and staying updated on health and\u001b[0m\n",
       "\u001b[1;38;5;40m                  > wellness news.\u001b[0m\n"
      ]
     },
     "metadata": {},
     "output_type": "display_data"
    },
    {
     "data": {
      "text/html": [
       "<pre style=\"margin:0px;;white-space:pre;overflow-x:auto;line-height:normal;font-family:Menlo,'DejaVu Sans Mono',consolas,'Courier New',monospace\"><span style=\"color: #008000; text-decoration-color: #008000; text-decoration: underline\">Aisha Rahman</span><span style=\"color: #008000; text-decoration-color: #008000\"> acts: </span><span style=\"color: #008000; text-decoration-color: #008000; font-weight: bold\">[</span><span style=\"color: #008000; text-decoration-color: #008000\">THINK</span><span style=\"color: #008000; text-decoration-color: #008000; font-weight: bold\">]</span><span style=\"color: #008000; text-decoration-color: #008000\"> </span>\n",
       "<span style=\"color: #008000; text-decoration-color: #008000\">                  &gt; I need to consider whether I would purchase a new healthy UHT beverage. I should</span>\n",
       "<span style=\"color: #008000; text-decoration-color: #008000\">                  &gt; think about my typical beverage choices, how much I am willing to spend, my</span>\n",
       "<span style=\"color: #008000; text-decoration-color: #008000\">                  &gt; health considerations, and how convenient it would be for me to buy it.</span>\n",
       "</pre>\n"
      ],
      "text/plain": [
       "\u001b[4;32mAisha Rahman\u001b[0m\u001b[32m acts: \u001b[0m\u001b[1;32m[\u001b[0m\u001b[32mTHINK\u001b[0m\u001b[1;32m]\u001b[0m\u001b[32m \u001b[0m\n",
       "\u001b[32m                  > I need to consider whether I would purchase a new healthy UHT beverage. I should\u001b[0m\n",
       "\u001b[32m                  > think about my typical beverage choices, how much I am willing to spend, my\u001b[0m\n",
       "\u001b[32m                  > health considerations, and how convenient it would be for me to buy it.\u001b[0m\n"
      ]
     },
     "metadata": {},
     "output_type": "display_data"
    },
    {
     "data": {
      "text/html": [
       "<pre style=\"margin:0px;;white-space:pre;overflow-x:auto;line-height:normal;font-family:Menlo,'DejaVu Sans Mono',consolas,'Courier New',monospace\"><span style=\"color: #00d700; text-decoration-color: #00d700; font-weight: bold; text-decoration: underline\">Aisha Rahman</span><span style=\"color: #00d700; text-decoration-color: #00d700; font-weight: bold\"> acts: [TALK] </span>\n",
       "<span style=\"color: #00d700; text-decoration-color: #00d700; font-weight: bold\">                  &gt; Maybe, I would consider purchasing a new healthy UHT beverage if it aligns with</span>\n",
       "<span style=\"color: #00d700; text-decoration-color: #00d700; font-weight: bold\">                  &gt; my health preferences and fits within my budget. I typically choose beverages</span>\n",
       "<span style=\"color: #00d700; text-decoration-color: #00d700; font-weight: bold\">                  &gt; that are low in sugar and high in nutritional value, so if the new product meets</span>\n",
       "<span style=\"color: #00d700; text-decoration-color: #00d700; font-weight: bold\">                  &gt; those criteria, I would be interested. Additionally, if it is conveniently</span>\n",
       "<span style=\"color: #00d700; text-decoration-color: #00d700; font-weight: bold\">                  &gt; available at my local supermarket and reasonably priced, that would increase my</span>\n",
       "<span style=\"color: #00d700; text-decoration-color: #00d700; font-weight: bold\">                  &gt; likelihood of buying it.</span>\n",
       "</pre>\n"
      ],
      "text/plain": [
       "\u001b[1;4;38;5;40mAisha Rahman\u001b[0m\u001b[1;38;5;40m acts: \u001b[0m\u001b[1;38;5;40m[\u001b[0m\u001b[1;38;5;40mTALK\u001b[0m\u001b[1;38;5;40m]\u001b[0m\u001b[1;38;5;40m \u001b[0m\n",
       "\u001b[1;38;5;40m                  > Maybe, I would consider purchasing a new healthy UHT beverage if it aligns with\u001b[0m\n",
       "\u001b[1;38;5;40m                  > my health preferences and fits within my budget. I typically choose beverages\u001b[0m\n",
       "\u001b[1;38;5;40m                  > that are low in sugar and high in nutritional value, so if the new product meets\u001b[0m\n",
       "\u001b[1;38;5;40m                  > those criteria, I would be interested. Additionally, if it is conveniently\u001b[0m\n",
       "\u001b[1;38;5;40m                  > available at my local supermarket and reasonably priced, that would increase my\u001b[0m\n",
       "\u001b[1;38;5;40m                  > likelihood of buying it.\u001b[0m\n"
      ]
     },
     "metadata": {},
     "output_type": "display_data"
    },
    {
     "data": {
      "text/html": [
       "<pre style=\"margin:0px;;white-space:pre;overflow-x:auto;line-height:normal;font-family:Menlo,'DejaVu Sans Mono',consolas,'Courier New',monospace\"><span style=\"color: #d0d0d0; text-decoration-color: #d0d0d0; text-decoration: underline\">Aisha Rahman</span><span style=\"color: #d0d0d0; text-decoration-color: #d0d0d0\"> acts: </span><span style=\"color: #d0d0d0; text-decoration-color: #d0d0d0; font-weight: bold\">[</span><span style=\"color: #d0d0d0; text-decoration-color: #d0d0d0\">DONE</span><span style=\"color: #d0d0d0; text-decoration-color: #d0d0d0; font-weight: bold\">]</span><span style=\"color: #d0d0d0; text-decoration-color: #d0d0d0\"> </span>\n",
       "\n",
       "</pre>\n"
      ],
      "text/plain": [
       "\u001b[4;38;5;252mAisha Rahman\u001b[0m\u001b[38;5;252m acts: \u001b[0m\u001b[1;38;5;252m[\u001b[0m\u001b[38;5;252mDONE\u001b[0m\u001b[1;38;5;252m]\u001b[0m\u001b[38;5;252m \u001b[0m\n",
       "\n"
      ]
     },
     "metadata": {},
     "output_type": "display_data"
    }
   ],
   "source": [
    "market.run(1)"
   ]
  },
  {
   "cell_type": "code",
   "execution_count": 15,
   "metadata": {},
   "outputs": [],
   "source": [
    "control.checkpoint()"
   ]
  },
  {
   "cell_type": "markdown",
   "metadata": {},
   "source": [
    "## Extract results and analyze"
   ]
  },
  {
   "cell_type": "markdown",
   "metadata": {},
   "source": [
    "Now we can actually extract the results."
   ]
  },
  {
   "cell_type": "code",
   "execution_count": 16,
   "metadata": {},
   "outputs": [
    {
     "name": "stdout",
     "output_type": "stream",
     "text": [
      "Extraction raw result message: {'content': '{\"response\": \"Maybe\", \"justification\": \"I would consider purchasing a new healthy UHT beverage if it aligns with my health preferences and fits within my budget. I typically choose beverages that are low in sugar and high in nutritional value, so if the new product meets those criteria, I would be interested. Additionally, if it is conveniently available at my local supermarket and reasonably priced, that would increase my likelihood of buying it.\"}', 'refusal': None, 'role': 'assistant'}\n"
     ]
    }
   ],
   "source": [
    "results = results_extractor.extract_results_from_agents(people)"
   ]
  },
  {
   "cell_type": "code",
   "execution_count": 17,
   "metadata": {},
   "outputs": [
    {
     "data": {
      "text/html": [
       "<div>\n",
       "<style scoped>\n",
       "    .dataframe tbody tr th:only-of-type {\n",
       "        vertical-align: middle;\n",
       "    }\n",
       "\n",
       "    .dataframe tbody tr th {\n",
       "        vertical-align: top;\n",
       "    }\n",
       "\n",
       "    .dataframe thead th {\n",
       "        text-align: right;\n",
       "    }\n",
       "</style>\n",
       "<table border=\"1\" class=\"dataframe\">\n",
       "  <thead>\n",
       "    <tr style=\"text-align: right;\">\n",
       "      <th></th>\n",
       "      <th>response</th>\n",
       "      <th>justification</th>\n",
       "    </tr>\n",
       "  </thead>\n",
       "  <tbody>\n",
       "    <tr>\n",
       "      <th>0</th>\n",
       "      <td>Maybe</td>\n",
       "      <td>I would consider purchasing a new healthy UHT ...</td>\n",
       "    </tr>\n",
       "  </tbody>\n",
       "</table>\n",
       "</div>"
      ],
      "text/plain": [
       "  response                                      justification\n",
       "0    Maybe  I would consider purchasing a new healthy UHT ..."
      ]
     },
     "execution_count": 17,
     "metadata": {},
     "output_type": "execute_result"
    }
   ],
   "source": [
    "# load a list of dicts into a pandas dataframe\n",
    "df = pd.DataFrame(results)\n",
    "df"
   ]
  },
  {
   "cell_type": "code",
   "execution_count": 18,
   "metadata": {},
   "outputs": [
    {
     "data": {
      "text/plain": [
       "<Axes: xlabel='response'>"
      ]
     },
     "execution_count": 18,
     "metadata": {},
     "output_type": "execute_result"
    },
    {
     "data": {
      "image/png": "[encoded data removed]",
      "text/plain": [
       "<Figure size 640x480 with 1 Axes>"
      ]
     },
     "metadata": {},
     "output_type": "display_data"
    }
   ],
   "source": [
    "df[\"response\"].value_counts().plot(kind='bar')"
   ]
  },
  {
   "cell_type": "code",
   "execution_count": 19,
   "metadata": {},
   "outputs": [
    {
     "name": "stdout",
     "output_type": "stream",
     "text": [
      "Positive responses: 0.00%\n",
      "Negative responses: 0.00%\n",
      "Potential customers: 100.00%\n",
      "No response: 0.00%\n",
      "\n",
      "VERDICT: The Malaysian market may need more analysis or product adjustment.\n"
     ]
    },
    {
     "data": {
      "text/plain": [
       "False"
      ]
     },
     "execution_count": 19,
     "metadata": {},
     "output_type": "execute_result"
    }
   ],
   "source": [
    "is_there_a_good_market(df)"
   ]
  },
  {
   "cell_type": "markdown",
   "metadata": {},
   "source": [
    "## Benchmark: American market\n",
    "Naturally, we'll want to compare the results of our market research with the results in America"
   ]
  },
  {
   "cell_type": "code",
   "execution_count": 20,
   "metadata": {},
   "outputs": [
    {
     "name": "stdout",
     "output_type": "stream",
     "text": [
      "Generated person 1/1: Marcus Thompson is a 29 year old Fitness Trainer, American, currently living in United States. Marcus Thompson is not only dedicated to his role as a fitness trainer but also possesses a deep passion for nutrition and wellness, constantly seeking to expand his knowledge in these areas. His weekends are often spent hiking and exploring nature, which fuels his love for photography, particularly capturing the beauty of the outdoors. While he maintains a friendly demeanor, his intensity can sometimes be overwhelming for clients who lack commitment, leading to moments of impatience. Despite the financial uncertainties that come with being self-employed, Marcus remains optimistic about developing community fitness programs and exploring online coaching to broaden his impact.\n"
     ]
    },
    {
     "data": {
      "text/html": [
       "<pre style=\"margin:0px;;white-space:pre;overflow-x:auto;line-height:normal;font-family:Menlo,'DejaVu Sans Mono',consolas,'Courier New',monospace\"><span style=\"color: #00ffff; text-decoration-color: #00ffff; font-weight: bold; font-style: italic; text-decoration: underline\">USER</span><span style=\"color: #00ffff; text-decoration-color: #00ffff; font-weight: bold; font-style: italic\"> --&gt; </span><span style=\"color: #00ffff; text-decoration-color: #00ffff; font-weight: bold; font-style: italic; text-decoration: underline\">Marcus Thompson</span><span style=\"color: #00ffff; text-decoration-color: #00ffff; font-weight: bold; font-style: italic\">: [CONVERSATION] </span>\n",
       "<span style=\"color: #00ffff; text-decoration-color: #00ffff; font-weight: bold; font-style: italic\">          &gt;   We are conducting a market survey about healthy beverage preferences in Malaysia.</span>\n",
       "<span style=\"color: #00ffff; text-decoration-color: #00ffff; font-weight: bold; font-style: italic\">          &gt; Could you please introduce yourself and share your top 10 interests, particularly those</span>\n",
       "<span style=\"color: #00ffff; text-decoration-color: #00ffff; font-weight: bold; font-style: italic\">          &gt; related to your lifestyle, health, and daily beverage consumption habits?</span>\n",
       "</pre>\n"
      ],
      "text/plain": [
       "\u001b[1;3;4;38;5;51mUSER\u001b[0m\u001b[1;3;38;5;51m --> \u001b[0m\u001b[1;3;4;38;5;51mMarcus Thompson\u001b[0m\u001b[1;3;38;5;51m: \u001b[0m\u001b[1;3;38;5;51m[\u001b[0m\u001b[1;3;38;5;51mCONVERSATION\u001b[0m\u001b[1;3;38;5;51m]\u001b[0m\u001b[1;3;38;5;51m \u001b[0m\n",
       "\u001b[1;3;38;5;51m          >   We are conducting a market survey about healthy beverage preferences in Malaysia.\u001b[0m\n",
       "\u001b[1;3;38;5;51m          > Could you please introduce yourself and share your top \u001b[0m\u001b[1;3;38;5;51m10\u001b[0m\u001b[1;3;38;5;51m interests, particularly those\u001b[0m\n",
       "\u001b[1;3;38;5;51m          > related to your lifestyle, health, and daily beverage consumption habits?\u001b[0m\n"
      ]
     },
     "metadata": {},
     "output_type": "display_data"
    },
    {
     "data": {
      "text/html": [
       "<pre style=\"margin:0px;;white-space:pre;overflow-x:auto;line-height:normal;font-family:Menlo,'DejaVu Sans Mono',consolas,'Courier New',monospace\"><span style=\"color: #00ffff; text-decoration-color: #00ffff; font-weight: bold; font-style: italic; text-decoration: underline\">USER</span><span style=\"color: #00ffff; text-decoration-color: #00ffff; font-weight: bold; font-style: italic\"> --&gt; </span><span style=\"color: #00ffff; text-decoration-color: #00ffff; font-weight: bold; font-style: italic; text-decoration: underline\">Marcus Thompson</span><span style=\"color: #00ffff; text-decoration-color: #00ffff; font-weight: bold; font-style: italic\">: [CONVERSATION] </span>\n",
       "<span style=\"color: #00ffff; text-decoration-color: #00ffff; font-weight: bold; font-style: italic\">          &gt;   If you saw a new healthy UHT beverage in your local supermarket today, would you</span>\n",
       "<span style=\"color: #00ffff; text-decoration-color: #00ffff; font-weight: bold; font-style: italic\">          &gt; purchase it? Please explain why or why not?   We value your honest opinion and there are</span>\n",
       "<span style=\"color: #00ffff; text-decoration-color: #00ffff; font-weight: bold; font-style: italic\">          &gt; no right or wrong answers. Consider your current lifestyle, health preferences, daily</span>\n",
       "<span style=\"color: #00ffff; text-decoration-color: #00ffff; font-weight: bold; font-style: italic\">          &gt; routine, and budget when answering. Think about factors like: - Your typical beverage</span>\n",
       "<span style=\"color: #00ffff; text-decoration-color: #00ffff; font-weight: bold; font-style: italic\">          &gt; choices - Price sensitivity - Health considerations - Convenience needs  Please start</span>\n",
       "<span style=\"color: #00ffff; text-decoration-color: #00ffff; font-weight: bold; font-style: italic\">          &gt; your response with either \"Yes, \", \"No, \" or \"Maybe, \" followed by your explanation.</span>\n",
       "</pre>\n"
      ],
      "text/plain": [
       "\u001b[1;3;4;38;5;51mUSER\u001b[0m\u001b[1;3;38;5;51m --> \u001b[0m\u001b[1;3;4;38;5;51mMarcus Thompson\u001b[0m\u001b[1;3;38;5;51m: \u001b[0m\u001b[1;3;38;5;51m[\u001b[0m\u001b[1;3;38;5;51mCONVERSATION\u001b[0m\u001b[1;3;38;5;51m]\u001b[0m\u001b[1;3;38;5;51m \u001b[0m\n",
       "\u001b[1;3;38;5;51m          >   If you saw a new healthy UHT beverage in your local supermarket today, would you\u001b[0m\n",
       "\u001b[1;3;38;5;51m          > purchase it? Please explain why or why not?   We value your honest opinion and there are\u001b[0m\n",
       "\u001b[1;3;38;5;51m          > no right or wrong answers. Consider your current lifestyle, health preferences, daily\u001b[0m\n",
       "\u001b[1;3;38;5;51m          > routine, and budget when answering. Think about factors like: - Your typical beverage\u001b[0m\n",
       "\u001b[1;3;38;5;51m          > choices - Price sensitivity - Health considerations - Convenience needs  Please start\u001b[0m\n",
       "\u001b[1;3;38;5;51m          > your response with either \u001b[0m\u001b[1;3;38;5;51m\"Yes, \"\u001b[0m\u001b[1;3;38;5;51m, \u001b[0m\u001b[1;3;38;5;51m\"No, \"\u001b[0m\u001b[1;3;38;5;51m or \u001b[0m\u001b[1;3;38;5;51m\"Maybe, \"\u001b[0m\u001b[1;3;38;5;51m followed by your explanation.\u001b[0m\n"
      ]
     },
     "metadata": {},
     "output_type": "display_data"
    },
    {
     "data": {
      "text/html": [
       "<pre style=\"margin:0px;;white-space:pre;overflow-x:auto;line-height:normal;font-family:Menlo,'DejaVu Sans Mono',consolas,'Courier New',monospace\"><span style=\"color: #00ff00; text-decoration-color: #00ff00\">───────────────────────────────────── </span>Target audience <span style=\"font-weight: bold\">(</span>American<span style=\"font-weight: bold\">)</span> step <span style=\"color: #008080; text-decoration-color: #008080; font-weight: bold\">1</span> of <span style=\"color: #008080; text-decoration-color: #008080; font-weight: bold\">1</span><span style=\"color: #00ff00; text-decoration-color: #00ff00\"> ──────────────────────────────────────</span>\n",
       "</pre>\n"
      ],
      "text/plain": [
       "\u001b[92m───────────────────────────────────── \u001b[0mTarget audience \u001b[1m(\u001b[0mAmerican\u001b[1m)\u001b[0m step \u001b[1;36m1\u001b[0m of \u001b[1;36m1\u001b[0m\u001b[92m ──────────────────────────────────────\u001b[0m\n"
      ]
     },
     "metadata": {},
     "output_type": "display_data"
    },
    {
     "data": {
      "text/html": [
       "<pre style=\"margin:0px;;white-space:pre;overflow-x:auto;line-height:normal;font-family:Menlo,'DejaVu Sans Mono',consolas,'Courier New',monospace\"><span style=\"color: #008000; text-decoration-color: #008000; text-decoration: underline\">Marcus Thompson</span><span style=\"color: #008000; text-decoration-color: #008000\"> acts: </span><span style=\"color: #008000; text-decoration-color: #008000; font-weight: bold\">[</span><span style=\"color: #008000; text-decoration-color: #008000\">THINK</span><span style=\"color: #008000; text-decoration-color: #008000; font-weight: bold\">]</span><span style=\"color: #008000; text-decoration-color: #008000\"> </span>\n",
       "<span style=\"color: #008000; text-decoration-color: #008000\">                     &gt; I need to introduce myself and share my interests related to lifestyle,</span>\n",
       "<span style=\"color: #008000; text-decoration-color: #008000\">                     &gt; health, and beverage consumption. I should also consider my typical beverage</span>\n",
       "<span style=\"color: #008000; text-decoration-color: #008000\">                     &gt; choices, price sensitivity, health considerations, and convenience needs when</span>\n",
       "<span style=\"color: #008000; text-decoration-color: #008000\">                     &gt; answering the question about purchasing a new healthy UHT beverage.</span>\n",
       "</pre>\n"
      ],
      "text/plain": [
       "\u001b[4;32mMarcus Thompson\u001b[0m\u001b[32m acts: \u001b[0m\u001b[1;32m[\u001b[0m\u001b[32mTHINK\u001b[0m\u001b[1;32m]\u001b[0m\u001b[32m \u001b[0m\n",
       "\u001b[32m                     > I need to introduce myself and share my interests related to lifestyle,\u001b[0m\n",
       "\u001b[32m                     > health, and beverage consumption. I should also consider my typical beverage\u001b[0m\n",
       "\u001b[32m                     > choices, price sensitivity, health considerations, and convenience needs when\u001b[0m\n",
       "\u001b[32m                     > answering the question about purchasing a new healthy UHT beverage.\u001b[0m\n"
      ]
     },
     "metadata": {},
     "output_type": "display_data"
    },
    {
     "data": {
      "text/html": [
       "<pre style=\"margin:0px;;white-space:pre;overflow-x:auto;line-height:normal;font-family:Menlo,'DejaVu Sans Mono',consolas,'Courier New',monospace\"><span style=\"color: #00d700; text-decoration-color: #00d700; font-weight: bold; text-decoration: underline\">Marcus Thompson</span><span style=\"color: #00d700; text-decoration-color: #00d700; font-weight: bold\"> acts: [TALK] </span>\n",
       "<span style=\"color: #00d700; text-decoration-color: #00d700; font-weight: bold\">                     &gt; Hello, my name is Marcus Thompson. I am a fitness trainer, and my interests</span>\n",
       "<span style=\"color: #00d700; text-decoration-color: #00d700; font-weight: bold\">                     &gt; include health and wellness, nutrition, outdoor activities like hiking,</span>\n",
       "<span style=\"color: #00d700; text-decoration-color: #00d700; font-weight: bold\">                     &gt; cooking healthy meals, and photography. I also enjoy learning about fitness</span>\n",
       "<span style=\"color: #00d700; text-decoration-color: #00d700; font-weight: bold\">                     &gt; trends and developing community fitness programs.</span>\n",
       "</pre>\n"
      ],
      "text/plain": [
       "\u001b[1;4;38;5;40mMarcus Thompson\u001b[0m\u001b[1;38;5;40m acts: \u001b[0m\u001b[1;38;5;40m[\u001b[0m\u001b[1;38;5;40mTALK\u001b[0m\u001b[1;38;5;40m]\u001b[0m\u001b[1;38;5;40m \u001b[0m\n",
       "\u001b[1;38;5;40m                     > Hello, my name is Marcus Thompson. I am a fitness trainer, and my interests\u001b[0m\n",
       "\u001b[1;38;5;40m                     > include health and wellness, nutrition, outdoor activities like hiking,\u001b[0m\n",
       "\u001b[1;38;5;40m                     > cooking healthy meals, and photography. I also enjoy learning about fitness\u001b[0m\n",
       "\u001b[1;38;5;40m                     > trends and developing community fitness programs.\u001b[0m\n"
      ]
     },
     "metadata": {},
     "output_type": "display_data"
    },
    {
     "data": {
      "text/html": [
       "<pre style=\"margin:0px;;white-space:pre;overflow-x:auto;line-height:normal;font-family:Menlo,'DejaVu Sans Mono',consolas,'Courier New',monospace\"><span style=\"color: #008000; text-decoration-color: #008000; text-decoration: underline\">Marcus Thompson</span><span style=\"color: #008000; text-decoration-color: #008000\"> acts: </span><span style=\"color: #008000; text-decoration-color: #008000; font-weight: bold\">[</span><span style=\"color: #008000; text-decoration-color: #008000\">THINK</span><span style=\"color: #008000; text-decoration-color: #008000; font-weight: bold\">]</span><span style=\"color: #008000; text-decoration-color: #008000\"> </span>\n",
       "<span style=\"color: #008000; text-decoration-color: #008000\">                     &gt; Now I need to answer the question about whether I would purchase a new</span>\n",
       "<span style=\"color: #008000; text-decoration-color: #008000\">                     &gt; healthy UHT beverage. I should consider my typical beverage choices, price</span>\n",
       "<span style=\"color: #008000; text-decoration-color: #008000\">                     &gt; sensitivity, health considerations, and convenience needs.</span>\n",
       "</pre>\n"
      ],
      "text/plain": [
       "\u001b[4;32mMarcus Thompson\u001b[0m\u001b[32m acts: \u001b[0m\u001b[1;32m[\u001b[0m\u001b[32mTHINK\u001b[0m\u001b[1;32m]\u001b[0m\u001b[32m \u001b[0m\n",
       "\u001b[32m                     > Now I need to answer the question about whether I would purchase a new\u001b[0m\n",
       "\u001b[32m                     > healthy UHT beverage. I should consider my typical beverage choices, price\u001b[0m\n",
       "\u001b[32m                     > sensitivity, health considerations, and convenience needs.\u001b[0m\n"
      ]
     },
     "metadata": {},
     "output_type": "display_data"
    },
    {
     "data": {
      "text/html": [
       "<pre style=\"margin:0px;;white-space:pre;overflow-x:auto;line-height:normal;font-family:Menlo,'DejaVu Sans Mono',consolas,'Courier New',monospace\"><span style=\"color: #00d700; text-decoration-color: #00d700; font-weight: bold; text-decoration: underline\">Marcus Thompson</span><span style=\"color: #00d700; text-decoration-color: #00d700; font-weight: bold\"> acts: [TALK] </span>\n",
       "<span style=\"color: #00d700; text-decoration-color: #00d700; font-weight: bold\">                     &gt; Maybe, I would consider purchasing a new healthy UHT beverage if it aligns</span>\n",
       "<span style=\"color: #00d700; text-decoration-color: #00d700; font-weight: bold\">                     &gt; with my health goals and fits within my budget. I typically choose beverages</span>\n",
       "<span style=\"color: #00d700; text-decoration-color: #00d700; font-weight: bold\">                     &gt; that are low in sugar and high in nutrients, so if the new product meets</span>\n",
       "<span style=\"color: #00d700; text-decoration-color: #00d700; font-weight: bold\">                     &gt; those criteria, I would be interested. However, if it's priced too high</span>\n",
       "<span style=\"color: #00d700; text-decoration-color: #00d700; font-weight: bold\">                     &gt; compared to similar options, I might hesitate to buy it due to budget</span>\n",
       "<span style=\"color: #00d700; text-decoration-color: #00d700; font-weight: bold\">                     &gt; constraints. Convenience is also important for me; if it's readily available</span>\n",
       "<span style=\"color: #00d700; text-decoration-color: #00d700; font-weight: bold\">                     &gt; at my local supermarket, that would increase the likelihood of my purchase.</span>\n",
       "</pre>\n"
      ],
      "text/plain": [
       "\u001b[1;4;38;5;40mMarcus Thompson\u001b[0m\u001b[1;38;5;40m acts: \u001b[0m\u001b[1;38;5;40m[\u001b[0m\u001b[1;38;5;40mTALK\u001b[0m\u001b[1;38;5;40m]\u001b[0m\u001b[1;38;5;40m \u001b[0m\n",
       "\u001b[1;38;5;40m                     > Maybe, I would consider purchasing a new healthy UHT beverage if it aligns\u001b[0m\n",
       "\u001b[1;38;5;40m                     > with my health goals and fits within my budget. I typically choose beverages\u001b[0m\n",
       "\u001b[1;38;5;40m                     > that are low in sugar and high in nutrients, so if the new product meets\u001b[0m\n",
       "\u001b[1;38;5;40m                     > those criteria, I would be interested. However, if it's priced too high\u001b[0m\n",
       "\u001b[1;38;5;40m                     > compared to similar options, I might hesitate to buy it due to budget\u001b[0m\n",
       "\u001b[1;38;5;40m                     > constraints. Convenience is also important for me; if it's readily available\u001b[0m\n",
       "\u001b[1;38;5;40m                     > at my local supermarket, that would increase the likelihood of my purchase.\u001b[0m\n"
      ]
     },
     "metadata": {},
     "output_type": "display_data"
    },
    {
     "data": {
      "text/html": [
       "<pre style=\"margin:0px;;white-space:pre;overflow-x:auto;line-height:normal;font-family:Menlo,'DejaVu Sans Mono',consolas,'Courier New',monospace\"><span style=\"color: #d0d0d0; text-decoration-color: #d0d0d0; text-decoration: underline\">Marcus Thompson</span><span style=\"color: #d0d0d0; text-decoration-color: #d0d0d0\"> acts: </span><span style=\"color: #d0d0d0; text-decoration-color: #d0d0d0; font-weight: bold\">[</span><span style=\"color: #d0d0d0; text-decoration-color: #d0d0d0\">DONE</span><span style=\"color: #d0d0d0; text-decoration-color: #d0d0d0; font-weight: bold\">]</span><span style=\"color: #d0d0d0; text-decoration-color: #d0d0d0\"> </span>\n",
       "\n",
       "</pre>\n"
      ],
      "text/plain": [
       "\u001b[4;38;5;252mMarcus Thompson\u001b[0m\u001b[38;5;252m acts: \u001b[0m\u001b[1;38;5;252m[\u001b[0m\u001b[38;5;252mDONE\u001b[0m\u001b[1;38;5;252m]\u001b[0m\u001b[38;5;252m \u001b[0m\n",
       "\n"
      ]
     },
     "metadata": {},
     "output_type": "display_data"
    }
   ],
   "source": [
    "factory_es = TinyPersonFactory(general_context(nationality=\"American\"))\n",
    "people_es = factory_es.generate_people(population_size, verbose=True)\n",
    "control.checkpoint()\n",
    "\n",
    "market_es = TinyWorld(f\"Target audience (American)\", people_es, broadcast_if_no_target=False)\n",
    "market_es.broadcast(interviewer_introduction)\n",
    "market_es.broadcast(interviewer_main_question)\n",
    "market_es.run(1)\n",
    "control.checkpoint()"
   ]
  },
  {
   "cell_type": "code",
   "execution_count": 21,
   "metadata": {},
   "outputs": [
    {
     "name": "stdout",
     "output_type": "stream",
     "text": [
      "Extraction raw result message: {'content': '{\"response\": \"Maybe\", \"justification\": \"I would consider purchasing a new healthy UHT beverage if it aligns with my health goals and fits within my budget. I typically choose beverages that are low in sugar and high in nutrients, so if the new product meets those criteria, I would be interested. However, if it\\'s priced too high compared to similar options, I might hesitate to buy it due to budget constraints. Convenience is also important for me; if it\\'s readily available at my local supermarket, that would increase the likelihood of my purchase.\"}', 'refusal': None, 'role': 'assistant'}\n"
     ]
    },
    {
     "data": {
      "text/html": [
       "<div>\n",
       "<style scoped>\n",
       "    .dataframe tbody tr th:only-of-type {\n",
       "        vertical-align: middle;\n",
       "    }\n",
       "\n",
       "    .dataframe tbody tr th {\n",
       "        vertical-align: top;\n",
       "    }\n",
       "\n",
       "    .dataframe thead th {\n",
       "        text-align: right;\n",
       "    }\n",
       "</style>\n",
       "<table border=\"1\" class=\"dataframe\">\n",
       "  <thead>\n",
       "    <tr style=\"text-align: right;\">\n",
       "      <th></th>\n",
       "      <th>response</th>\n",
       "      <th>justification</th>\n",
       "    </tr>\n",
       "  </thead>\n",
       "  <tbody>\n",
       "    <tr>\n",
       "      <th>0</th>\n",
       "      <td>Maybe</td>\n",
       "      <td>I would consider purchasing a new healthy UHT ...</td>\n",
       "    </tr>\n",
       "  </tbody>\n",
       "</table>\n",
       "</div>"
      ],
      "text/plain": [
       "  response                                      justification\n",
       "0    Maybe  I would consider purchasing a new healthy UHT ..."
      ]
     },
     "execution_count": 21,
     "metadata": {},
     "output_type": "execute_result"
    }
   ],
   "source": [
    "results_es = results_extractor.extract_results_from_agents(people_es)\n",
    "df_es = pd.DataFrame(results_es)\n",
    "df_es"
   ]
  },
  {
   "cell_type": "code",
   "execution_count": 22,
   "metadata": {},
   "outputs": [
    {
     "data": {
      "text/plain": [
       "<Axes: xlabel='response'>"
      ]
     },
     "execution_count": 22,
     "metadata": {},
     "output_type": "execute_result"
    },
    {
     "data": {
      "image/png": "[encoded data removed]",
      "text/plain": [
       "<Figure size 640x480 with 1 Axes>"
      ]
     },
     "metadata": {},
     "output_type": "display_data"
    }
   ],
   "source": [
    "df_es[\"response\"].value_counts().plot(kind='bar')"
   ]
  },
  {
   "cell_type": "code",
   "execution_count": 24,
   "metadata": {},
   "outputs": [
    {
     "name": "stdout",
     "output_type": "stream",
     "text": [
      "Positive responses: 0.00%\n",
      "Negative responses: 0.00%\n",
      "Potential customers: 100.00%\n",
      "No response: 0.00%\n",
      "\n",
      "VERDICT: The Malaysian market may need more analysis or product adjustment.\n"
     ]
    },
    {
     "data": {
      "text/plain": [
       "False"
      ]
     },
     "execution_count": 24,
     "metadata": {},
     "output_type": "execute_result"
    }
   ],
   "source": [
    "is_there_a_good_market(df_es)"
   ]
  },
  {
   "cell_type": "markdown",
   "metadata": {},
   "source": [
    "So how the target market compares with the American benchmark?"
   ]
  },
  {
   "cell_type": "code",
   "execution_count": 25,
   "metadata": {},
   "outputs": [
    {
     "name": "stdout",
     "output_type": "stream",
     "text": [
      "Percentage of 'Yes' responses in the target market: 0.00%\n",
      "Percentage of 'Yes' responses in America: 0.00%\n",
      "Percentage of 'No' responses in the target market: 0.00%\n",
      "Percentage of 'No' responses in Spain: 0.00%\n"
     ]
    }
   ],
   "source": [
    "# compare df with df_es\n",
    "\n",
    "# % of yes\n",
    "percentage_yes = df[\"response\"].value_counts(normalize=True).get(\"Yes\", 0)\n",
    "percentage_yes_es = df_es[\"response\"].value_counts(normalize=True).get(\"Yes\", 0)\n",
    "print(f\"Percentage of 'Yes' responses in the target market: {percentage_yes:.2%}\")\n",
    "print(f\"Percentage of 'Yes' responses in America: {percentage_yes_es:.2%}\")\n",
    "# how much more likely are people in Spain to buy the product?\n",
    "if percentage_yes != 0:\n",
    "    print(f\"Americans people are {percentage_yes_es / percentage_yes:.2f} times more likely to buy the product.\")\n",
    "\n",
    "# % of no\n",
    "percentage_no = df[\"response\"].value_counts(normalize=True).get(\"No\", 0)\n",
    "percentage_no_es = df_es[\"response\"].value_counts(normalize=True).get(\"No\", 0)\n",
    "print(f\"Percentage of 'No' responses in the target market: {percentage_no:.2%}\")\n",
    "print(f\"Percentage of 'No' responses in America: {percentage_no_es:.2%}\")\n",
    "# how much more likely are people in Spain to not buy the product?\n",
    "if percentage_no != 0:\n",
    "    print(f\"Americans people are {percentage_no_es / percentage_no:.2f} times more likely to not buy the product.\")"
   ]
  },
  {
   "cell_type": "code",
   "execution_count": 27,
   "metadata": {},
   "outputs": [
    {
     "data": {
      "image/png": "[encoded data removed]",
      "text/plain": [
       "<Figure size 640x480 with 1 Axes>"
      ]
     },
     "metadata": {},
     "output_type": "display_data"
    }
   ],
   "source": [
    "# compare charts. Put both bars in the same plot, for easier comparison\n",
    "# Need to order the labels in the chart.\n",
    "fig, ax = plt.subplots()\n",
    "df[\"response\"].value_counts().reindex([\"Yes\", \"Maybe\", \"No\", \"N/A\"]).plot(kind='bar', color='blue', position=0, width=0.4, label=\"Target market\", ax=ax)\n",
    "df_es[\"response\"].value_counts().reindex([\"Yes\", \"Maybe\", \"No\", \"N/A\"]).plot(kind='bar', color='red', position=1, width=0.4, label=\"America\", ax=ax)\n",
    "plt.legend()\n",
    "plt.show()\n",
    "\n"
   ]
  },
  {
   "cell_type": "markdown",
   "metadata": {},
   "source": [
    "## Other countries\n",
    "\n",
    "Should we compute other nationalities? This might take a while, so we leave it as an option."
   ]
  },
  {
   "cell_type": "code",
   "execution_count": 28,
   "metadata": {},
   "outputs": [],
   "source": [
    "if not compute_other_nationalities:\n",
    "    control.end()\n",
    "    raise KeyboardInterrupt"
   ]
  },
  {
   "cell_type": "markdown",
   "metadata": {},
   "source": [
    "Here's a convenience function to perform the same analysis for other countries more easily."
   ]
  },
  {
   "cell_type": "code",
   "execution_count": 29,
   "metadata": {},
   "outputs": [],
   "source": [
    "def market_research_simulation(nationality, population_size, results_extractor):\n",
    "    factory = TinyPersonFactory(general_context(nationality=nationality))\n",
    "    people = factory.generate_people(population_size, verbose=True)\n",
    "    market = TinyWorld(f\"Target audience ({nationality})\", people, broadcast_if_no_target=False)\n",
    "    control.checkpoint()\n",
    "\n",
    "    market.broadcast(interviewer_introduction)\n",
    "    market.broadcast(interviewer_main_question)\n",
    "    market.run(1)\n",
    "    control.checkpoint()\n",
    "    \n",
    "    results = results_extractor.extract_results_from_agents(people)\n",
    "    df = pd.DataFrame(results)\n",
    "\n",
    "    return df\n"
   ]
  },
  {
   "cell_type": "markdown",
   "metadata": {},
   "source": [
    "### Singapore"
   ]
  },
  {
   "cell_type": "code",
   "execution_count": 30,
   "metadata": {},
   "outputs": [
    {
     "name": "stdout",
     "output_type": "stream",
     "text": [
      "Generated person 1/1: Jasmine Tan is a 29 year old Marketing Executive, Singaporean, currently living in Singapore. Jasmine Tan is not only dedicated to her role as a Marketing Executive but also embodies a vibrant and active lifestyle. Her mornings are filled with yoga, which sets a positive tone for her day, while her lunch breaks spent walking in the park help her maintain clarity and focus. Outside of work, she enjoys cooking healthy meals and experimenting with new recipes, reflecting her passion for health and wellness. With a keen interest in digital marketing trends and sustainable practices, Jasmine is always looking to enhance her skills, particularly in understanding consumer behavior within the beverage industry.\n"
     ]
    },
    {
     "data": {
      "text/html": [
       "<pre style=\"margin:0px;;white-space:pre;overflow-x:auto;line-height:normal;font-family:Menlo,'DejaVu Sans Mono',consolas,'Courier New',monospace\"><span style=\"color: #00ffff; text-decoration-color: #00ffff; font-weight: bold; font-style: italic; text-decoration: underline\">USER</span><span style=\"color: #00ffff; text-decoration-color: #00ffff; font-weight: bold; font-style: italic\"> --&gt; </span><span style=\"color: #00ffff; text-decoration-color: #00ffff; font-weight: bold; font-style: italic; text-decoration: underline\">Jasmine Tan</span><span style=\"color: #00ffff; text-decoration-color: #00ffff; font-weight: bold; font-style: italic\">: [CONVERSATION] </span>\n",
       "<span style=\"color: #00ffff; text-decoration-color: #00ffff; font-weight: bold; font-style: italic\">          &gt;   We are conducting a market survey about healthy beverage preferences in Malaysia.</span>\n",
       "<span style=\"color: #00ffff; text-decoration-color: #00ffff; font-weight: bold; font-style: italic\">          &gt; Could you please introduce yourself and share your top 10 interests, particularly those</span>\n",
       "<span style=\"color: #00ffff; text-decoration-color: #00ffff; font-weight: bold; font-style: italic\">          &gt; related to your lifestyle, health, and daily beverage consumption habits?</span>\n",
       "</pre>\n"
      ],
      "text/plain": [
       "\u001b[1;3;4;38;5;51mUSER\u001b[0m\u001b[1;3;38;5;51m --> \u001b[0m\u001b[1;3;4;38;5;51mJasmine Tan\u001b[0m\u001b[1;3;38;5;51m: \u001b[0m\u001b[1;3;38;5;51m[\u001b[0m\u001b[1;3;38;5;51mCONVERSATION\u001b[0m\u001b[1;3;38;5;51m]\u001b[0m\u001b[1;3;38;5;51m \u001b[0m\n",
       "\u001b[1;3;38;5;51m          >   We are conducting a market survey about healthy beverage preferences in Malaysia.\u001b[0m\n",
       "\u001b[1;3;38;5;51m          > Could you please introduce yourself and share your top \u001b[0m\u001b[1;3;38;5;51m10\u001b[0m\u001b[1;3;38;5;51m interests, particularly those\u001b[0m\n",
       "\u001b[1;3;38;5;51m          > related to your lifestyle, health, and daily beverage consumption habits?\u001b[0m\n"
      ]
     },
     "metadata": {},
     "output_type": "display_data"
    },
    {
     "data": {
      "text/html": [
       "<pre style=\"margin:0px;;white-space:pre;overflow-x:auto;line-height:normal;font-family:Menlo,'DejaVu Sans Mono',consolas,'Courier New',monospace\"><span style=\"color: #00ffff; text-decoration-color: #00ffff; font-weight: bold; font-style: italic; text-decoration: underline\">USER</span><span style=\"color: #00ffff; text-decoration-color: #00ffff; font-weight: bold; font-style: italic\"> --&gt; </span><span style=\"color: #00ffff; text-decoration-color: #00ffff; font-weight: bold; font-style: italic; text-decoration: underline\">Jasmine Tan</span><span style=\"color: #00ffff; text-decoration-color: #00ffff; font-weight: bold; font-style: italic\">: [CONVERSATION] </span>\n",
       "<span style=\"color: #00ffff; text-decoration-color: #00ffff; font-weight: bold; font-style: italic\">          &gt;   If you saw a new healthy UHT beverage in your local supermarket today, would you</span>\n",
       "<span style=\"color: #00ffff; text-decoration-color: #00ffff; font-weight: bold; font-style: italic\">          &gt; purchase it? Please explain why or why not?   We value your honest opinion and there are</span>\n",
       "<span style=\"color: #00ffff; text-decoration-color: #00ffff; font-weight: bold; font-style: italic\">          &gt; no right or wrong answers. Consider your current lifestyle, health preferences, daily</span>\n",
       "<span style=\"color: #00ffff; text-decoration-color: #00ffff; font-weight: bold; font-style: italic\">          &gt; routine, and budget when answering. Think about factors like: - Your typical beverage</span>\n",
       "<span style=\"color: #00ffff; text-decoration-color: #00ffff; font-weight: bold; font-style: italic\">          &gt; choices - Price sensitivity - Health considerations - Convenience needs  Please start</span>\n",
       "<span style=\"color: #00ffff; text-decoration-color: #00ffff; font-weight: bold; font-style: italic\">          &gt; your response with either \"Yes, \", \"No, \" or \"Maybe, \" followed by your explanation.</span>\n",
       "</pre>\n"
      ],
      "text/plain": [
       "\u001b[1;3;4;38;5;51mUSER\u001b[0m\u001b[1;3;38;5;51m --> \u001b[0m\u001b[1;3;4;38;5;51mJasmine Tan\u001b[0m\u001b[1;3;38;5;51m: \u001b[0m\u001b[1;3;38;5;51m[\u001b[0m\u001b[1;3;38;5;51mCONVERSATION\u001b[0m\u001b[1;3;38;5;51m]\u001b[0m\u001b[1;3;38;5;51m \u001b[0m\n",
       "\u001b[1;3;38;5;51m          >   If you saw a new healthy UHT beverage in your local supermarket today, would you\u001b[0m\n",
       "\u001b[1;3;38;5;51m          > purchase it? Please explain why or why not?   We value your honest opinion and there are\u001b[0m\n",
       "\u001b[1;3;38;5;51m          > no right or wrong answers. Consider your current lifestyle, health preferences, daily\u001b[0m\n",
       "\u001b[1;3;38;5;51m          > routine, and budget when answering. Think about factors like: - Your typical beverage\u001b[0m\n",
       "\u001b[1;3;38;5;51m          > choices - Price sensitivity - Health considerations - Convenience needs  Please start\u001b[0m\n",
       "\u001b[1;3;38;5;51m          > your response with either \u001b[0m\u001b[1;3;38;5;51m\"Yes, \"\u001b[0m\u001b[1;3;38;5;51m, \u001b[0m\u001b[1;3;38;5;51m\"No, \"\u001b[0m\u001b[1;3;38;5;51m or \u001b[0m\u001b[1;3;38;5;51m\"Maybe, \"\u001b[0m\u001b[1;3;38;5;51m followed by your explanation.\u001b[0m\n"
      ]
     },
     "metadata": {},
     "output_type": "display_data"
    },
    {
     "data": {
      "text/html": [
       "<pre style=\"margin:0px;;white-space:pre;overflow-x:auto;line-height:normal;font-family:Menlo,'DejaVu Sans Mono',consolas,'Courier New',monospace\"><span style=\"color: #00ff00; text-decoration-color: #00ff00\">──────────────────────────────────── </span>Target audience <span style=\"font-weight: bold\">(</span>Singaporean<span style=\"font-weight: bold\">)</span> step <span style=\"color: #008080; text-decoration-color: #008080; font-weight: bold\">1</span> of <span style=\"color: #008080; text-decoration-color: #008080; font-weight: bold\">1</span><span style=\"color: #00ff00; text-decoration-color: #00ff00\"> ────────────────────────────────────</span>\n",
       "</pre>\n"
      ],
      "text/plain": [
       "\u001b[92m──────────────────────────────────── \u001b[0mTarget audience \u001b[1m(\u001b[0mSingaporean\u001b[1m)\u001b[0m step \u001b[1;36m1\u001b[0m of \u001b[1;36m1\u001b[0m\u001b[92m ────────────────────────────────────\u001b[0m\n"
      ]
     },
     "metadata": {},
     "output_type": "display_data"
    },
    {
     "data": {
      "text/html": [
       "<pre style=\"margin:0px;;white-space:pre;overflow-x:auto;line-height:normal;font-family:Menlo,'DejaVu Sans Mono',consolas,'Courier New',monospace\"><span style=\"color: #008000; text-decoration-color: #008000; text-decoration: underline\">Jasmine Tan</span><span style=\"color: #008000; text-decoration-color: #008000\"> acts: </span><span style=\"color: #008000; text-decoration-color: #008000; font-weight: bold\">[</span><span style=\"color: #008000; text-decoration-color: #008000\">THINK</span><span style=\"color: #008000; text-decoration-color: #008000; font-weight: bold\">]</span><span style=\"color: #008000; text-decoration-color: #008000\"> </span>\n",
       "<span style=\"color: #008000; text-decoration-color: #008000\">                 &gt; I need to introduce myself and share my interests related to lifestyle, health,</span>\n",
       "<span style=\"color: #008000; text-decoration-color: #008000\">                 &gt; and beverage consumption. I should also consider my response to the question</span>\n",
       "<span style=\"color: #008000; text-decoration-color: #008000\">                 &gt; about purchasing a new healthy UHT beverage, reflecting on my typical choices,</span>\n",
       "<span style=\"color: #008000; text-decoration-color: #008000\">                 &gt; price sensitivity, health considerations, and convenience needs.</span>\n",
       "</pre>\n"
      ],
      "text/plain": [
       "\u001b[4;32mJasmine Tan\u001b[0m\u001b[32m acts: \u001b[0m\u001b[1;32m[\u001b[0m\u001b[32mTHINK\u001b[0m\u001b[1;32m]\u001b[0m\u001b[32m \u001b[0m\n",
       "\u001b[32m                 > I need to introduce myself and share my interests related to lifestyle, health,\u001b[0m\n",
       "\u001b[32m                 > and beverage consumption. I should also consider my response to the question\u001b[0m\n",
       "\u001b[32m                 > about purchasing a new healthy UHT beverage, reflecting on my typical choices,\u001b[0m\n",
       "\u001b[32m                 > price sensitivity, health considerations, and convenience needs.\u001b[0m\n"
      ]
     },
     "metadata": {},
     "output_type": "display_data"
    },
    {
     "data": {
      "text/html": [
       "<pre style=\"margin:0px;;white-space:pre;overflow-x:auto;line-height:normal;font-family:Menlo,'DejaVu Sans Mono',consolas,'Courier New',monospace\"><span style=\"color: #00d700; text-decoration-color: #00d700; font-weight: bold; text-decoration: underline\">Jasmine Tan</span><span style=\"color: #00d700; text-decoration-color: #00d700; font-weight: bold\"> acts: [TALK] </span>\n",
       "<span style=\"color: #00d700; text-decoration-color: #00d700; font-weight: bold\">                 &gt; Hello! My name is Jasmine Tan, and I'm a </span><span style=\"color: #00d700; text-decoration-color: #00d700; font-weight: bold\">29</span><span style=\"color: #00d700; text-decoration-color: #00d700; font-weight: bold\">-year-old marketing executive from</span>\n",
       "<span style=\"color: #00d700; text-decoration-color: #00d700; font-weight: bold\">                 &gt; Singapore. I have a strong passion for health and wellness, which influences my</span>\n",
       "<span style=\"color: #00d700; text-decoration-color: #00d700; font-weight: bold\">                 &gt; lifestyle choices. Here are my top </span><span style=\"color: #00d700; text-decoration-color: #00d700; font-weight: bold\">10</span><span style=\"color: #00d700; text-decoration-color: #00d700; font-weight: bold\"> interests related to my lifestyle and</span>\n",
       "<span style=\"color: #00d700; text-decoration-color: #00d700; font-weight: bold\">                 &gt; beverage consumption: </span><span style=\"color: #00d700; text-decoration-color: #00d700; font-weight: bold\">1</span><span style=\"color: #00d700; text-decoration-color: #00d700; font-weight: bold\">. Healthy cooking, </span><span style=\"color: #00d700; text-decoration-color: #00d700; font-weight: bold\">2</span><span style=\"color: #00d700; text-decoration-color: #00d700; font-weight: bold\">. Yoga and fitness, </span><span style=\"color: #00d700; text-decoration-color: #00d700; font-weight: bold\">3</span><span style=\"color: #00d700; text-decoration-color: #00d700; font-weight: bold\">. Hiking and</span>\n",
       "<span style=\"color: #00d700; text-decoration-color: #00d700; font-weight: bold\">                 &gt; exploring nature, </span><span style=\"color: #00d700; text-decoration-color: #00d700; font-weight: bold\">4</span><span style=\"color: #00d700; text-decoration-color: #00d700; font-weight: bold\">. Digital marketing trends, </span><span style=\"color: #00d700; text-decoration-color: #00d700; font-weight: bold\">5</span><span style=\"color: #00d700; text-decoration-color: #00d700; font-weight: bold\">. Consumer behavior in the</span>\n",
       "<span style=\"color: #00d700; text-decoration-color: #00d700; font-weight: bold\">                 &gt; beverage industry, </span><span style=\"color: #00d700; text-decoration-color: #00d700; font-weight: bold\">6</span><span style=\"color: #00d700; text-decoration-color: #00d700; font-weight: bold\">. Sustainable practices in marketing, </span><span style=\"color: #00d700; text-decoration-color: #00d700; font-weight: bold\">7</span><span style=\"color: #00d700; text-decoration-color: #00d700; font-weight: bold\">. Photography</span>\n",
       "<span style=\"color: #00d700; text-decoration-color: #00d700; font-weight: bold\">                 &gt; (especially food and nature), </span><span style=\"color: #00d700; text-decoration-color: #00d700; font-weight: bold\">8</span><span style=\"color: #00d700; text-decoration-color: #00d700; font-weight: bold\">. Reading self-help books, </span><span style=\"color: #00d700; text-decoration-color: #00d700; font-weight: bold\">9</span><span style=\"color: #00d700; text-decoration-color: #00d700; font-weight: bold\">. Experimenting with</span>\n",
       "<span style=\"color: #00d700; text-decoration-color: #00d700; font-weight: bold\">                 &gt; new healthy recipes, and </span><span style=\"color: #00d700; text-decoration-color: #00d700; font-weight: bold\">10</span><span style=\"color: #00d700; text-decoration-color: #00d700; font-weight: bold\">. Engaging in community wellness activities.</span>\n",
       "</pre>\n"
      ],
      "text/plain": [
       "\u001b[1;4;38;5;40mJasmine Tan\u001b[0m\u001b[1;38;5;40m acts: \u001b[0m\u001b[1;38;5;40m[\u001b[0m\u001b[1;38;5;40mTALK\u001b[0m\u001b[1;38;5;40m]\u001b[0m\u001b[1;38;5;40m \u001b[0m\n",
       "\u001b[1;38;5;40m                 > Hello! My name is Jasmine Tan, and I'm a \u001b[0m\u001b[1;38;5;40m29\u001b[0m\u001b[1;38;5;40m-year-old marketing executive from\u001b[0m\n",
       "\u001b[1;38;5;40m                 > Singapore. I have a strong passion for health and wellness, which influences my\u001b[0m\n",
       "\u001b[1;38;5;40m                 > lifestyle choices. Here are my top \u001b[0m\u001b[1;38;5;40m10\u001b[0m\u001b[1;38;5;40m interests related to my lifestyle and\u001b[0m\n",
       "\u001b[1;38;5;40m                 > beverage consumption: \u001b[0m\u001b[1;38;5;40m1\u001b[0m\u001b[1;38;5;40m. Healthy cooking, \u001b[0m\u001b[1;38;5;40m2\u001b[0m\u001b[1;38;5;40m. Yoga and fitness, \u001b[0m\u001b[1;38;5;40m3\u001b[0m\u001b[1;38;5;40m. Hiking and\u001b[0m\n",
       "\u001b[1;38;5;40m                 > exploring nature, \u001b[0m\u001b[1;38;5;40m4\u001b[0m\u001b[1;38;5;40m. Digital marketing trends, \u001b[0m\u001b[1;38;5;40m5\u001b[0m\u001b[1;38;5;40m. Consumer behavior in the\u001b[0m\n",
       "\u001b[1;38;5;40m                 > beverage industry, \u001b[0m\u001b[1;38;5;40m6\u001b[0m\u001b[1;38;5;40m. Sustainable practices in marketing, \u001b[0m\u001b[1;38;5;40m7\u001b[0m\u001b[1;38;5;40m. Photography\u001b[0m\n",
       "\u001b[1;38;5;40m                 > \u001b[0m\u001b[1;38;5;40m(\u001b[0m\u001b[1;38;5;40mespecially food and nature\u001b[0m\u001b[1;38;5;40m)\u001b[0m\u001b[1;38;5;40m, \u001b[0m\u001b[1;38;5;40m8\u001b[0m\u001b[1;38;5;40m. Reading self-help books, \u001b[0m\u001b[1;38;5;40m9\u001b[0m\u001b[1;38;5;40m. Experimenting with\u001b[0m\n",
       "\u001b[1;38;5;40m                 > new healthy recipes, and \u001b[0m\u001b[1;38;5;40m10\u001b[0m\u001b[1;38;5;40m. Engaging in community wellness activities.\u001b[0m\n"
      ]
     },
     "metadata": {},
     "output_type": "display_data"
    },
    {
     "data": {
      "text/html": [
       "<pre style=\"margin:0px;;white-space:pre;overflow-x:auto;line-height:normal;font-family:Menlo,'DejaVu Sans Mono',consolas,'Courier New',monospace\"><span style=\"color: #008000; text-decoration-color: #008000; text-decoration: underline\">Jasmine Tan</span><span style=\"color: #008000; text-decoration-color: #008000\"> acts: </span><span style=\"color: #008000; text-decoration-color: #008000; font-weight: bold\">[</span><span style=\"color: #008000; text-decoration-color: #008000\">THINK</span><span style=\"color: #008000; text-decoration-color: #008000; font-weight: bold\">]</span><span style=\"color: #008000; text-decoration-color: #008000\"> </span>\n",
       "<span style=\"color: #008000; text-decoration-color: #008000\">                 &gt; Now I need to respond to the question about whether I would purchase a new</span>\n",
       "<span style=\"color: #008000; text-decoration-color: #008000\">                 &gt; healthy UHT beverage. I should consider my typical beverage choices, price</span>\n",
       "<span style=\"color: #008000; text-decoration-color: #008000\">                 &gt; sensitivity, health considerations, and convenience needs before forming my</span>\n",
       "<span style=\"color: #008000; text-decoration-color: #008000\">                 &gt; answer.</span>\n",
       "</pre>\n"
      ],
      "text/plain": [
       "\u001b[4;32mJasmine Tan\u001b[0m\u001b[32m acts: \u001b[0m\u001b[1;32m[\u001b[0m\u001b[32mTHINK\u001b[0m\u001b[1;32m]\u001b[0m\u001b[32m \u001b[0m\n",
       "\u001b[32m                 > Now I need to respond to the question about whether I would purchase a new\u001b[0m\n",
       "\u001b[32m                 > healthy UHT beverage. I should consider my typical beverage choices, price\u001b[0m\n",
       "\u001b[32m                 > sensitivity, health considerations, and convenience needs before forming my\u001b[0m\n",
       "\u001b[32m                 > answer.\u001b[0m\n"
      ]
     },
     "metadata": {},
     "output_type": "display_data"
    },
    {
     "data": {
      "text/html": [
       "<pre style=\"margin:0px;;white-space:pre;overflow-x:auto;line-height:normal;font-family:Menlo,'DejaVu Sans Mono',consolas,'Courier New',monospace\"><span style=\"color: #00d700; text-decoration-color: #00d700; font-weight: bold; text-decoration: underline\">Jasmine Tan</span><span style=\"color: #00d700; text-decoration-color: #00d700; font-weight: bold\"> acts: [TALK] </span>\n",
       "<span style=\"color: #00d700; text-decoration-color: #00d700; font-weight: bold\">                 &gt; Maybe, I would consider purchasing a new healthy UHT beverage if it aligns with</span>\n",
       "<span style=\"color: #00d700; text-decoration-color: #00d700; font-weight: bold\">                 &gt; my health preferences and fits within my budget. I typically choose beverages</span>\n",
       "<span style=\"color: #00d700; text-decoration-color: #00d700; font-weight: bold\">                 &gt; that are low in sugar and high in nutritional value, so if the new product meets</span>\n",
       "<span style=\"color: #00d700; text-decoration-color: #00d700; font-weight: bold\">                 &gt; those criteria, I would be interested. Additionally, convenience is important to</span>\n",
       "<span style=\"color: #00d700; text-decoration-color: #00d700; font-weight: bold\">                 &gt; me, so if it's readily available at my local supermarket, that would also</span>\n",
       "<span style=\"color: #00d700; text-decoration-color: #00d700; font-weight: bold\">                 &gt; influence my decision.</span>\n",
       "</pre>\n"
      ],
      "text/plain": [
       "\u001b[1;4;38;5;40mJasmine Tan\u001b[0m\u001b[1;38;5;40m acts: \u001b[0m\u001b[1;38;5;40m[\u001b[0m\u001b[1;38;5;40mTALK\u001b[0m\u001b[1;38;5;40m]\u001b[0m\u001b[1;38;5;40m \u001b[0m\n",
       "\u001b[1;38;5;40m                 > Maybe, I would consider purchasing a new healthy UHT beverage if it aligns with\u001b[0m\n",
       "\u001b[1;38;5;40m                 > my health preferences and fits within my budget. I typically choose beverages\u001b[0m\n",
       "\u001b[1;38;5;40m                 > that are low in sugar and high in nutritional value, so if the new product meets\u001b[0m\n",
       "\u001b[1;38;5;40m                 > those criteria, I would be interested. Additionally, convenience is important to\u001b[0m\n",
       "\u001b[1;38;5;40m                 > me, so if it's readily available at my local supermarket, that would also\u001b[0m\n",
       "\u001b[1;38;5;40m                 > influence my decision.\u001b[0m\n"
      ]
     },
     "metadata": {},
     "output_type": "display_data"
    },
    {
     "data": {
      "text/html": [
       "<pre style=\"margin:0px;;white-space:pre;overflow-x:auto;line-height:normal;font-family:Menlo,'DejaVu Sans Mono',consolas,'Courier New',monospace\"><span style=\"color: #d0d0d0; text-decoration-color: #d0d0d0; text-decoration: underline\">Jasmine Tan</span><span style=\"color: #d0d0d0; text-decoration-color: #d0d0d0\"> acts: </span><span style=\"color: #d0d0d0; text-decoration-color: #d0d0d0; font-weight: bold\">[</span><span style=\"color: #d0d0d0; text-decoration-color: #d0d0d0\">DONE</span><span style=\"color: #d0d0d0; text-decoration-color: #d0d0d0; font-weight: bold\">]</span><span style=\"color: #d0d0d0; text-decoration-color: #d0d0d0\"> </span>\n",
       "\n",
       "</pre>\n"
      ],
      "text/plain": [
       "\u001b[4;38;5;252mJasmine Tan\u001b[0m\u001b[38;5;252m acts: \u001b[0m\u001b[1;38;5;252m[\u001b[0m\u001b[38;5;252mDONE\u001b[0m\u001b[1;38;5;252m]\u001b[0m\u001b[38;5;252m \u001b[0m\n",
       "\n"
      ]
     },
     "metadata": {},
     "output_type": "display_data"
    },
    {
     "name": "stdout",
     "output_type": "stream",
     "text": [
      "Extraction raw result message: {'content': '{\"response\": \"Maybe\", \"justification\": \"I would consider purchasing a new healthy UHT beverage if it aligns with my health preferences and fits within my budget. I typically choose beverages that are low in sugar and high in nutritional value, so if the new product meets those criteria, I would be interested. Additionally, convenience is important to me, so if it\\'s readily available at my local supermarket, that would also influence my decision.\"}', 'refusal': None, 'role': 'assistant'}\n"
     ]
    }
   ],
   "source": [
    "df_sg = market_research_simulation(\"Singaporean\", \n",
    "                                   population_size=population_size, \n",
    "                                   results_extractor=results_extractor)"
   ]
  },
  {
   "cell_type": "code",
   "execution_count": 31,
   "metadata": {},
   "outputs": [
    {
     "data": {
      "text/html": [
       "<div>\n",
       "<style scoped>\n",
       "    .dataframe tbody tr th:only-of-type {\n",
       "        vertical-align: middle;\n",
       "    }\n",
       "\n",
       "    .dataframe tbody tr th {\n",
       "        vertical-align: top;\n",
       "    }\n",
       "\n",
       "    .dataframe thead th {\n",
       "        text-align: right;\n",
       "    }\n",
       "</style>\n",
       "<table border=\"1\" class=\"dataframe\">\n",
       "  <thead>\n",
       "    <tr style=\"text-align: right;\">\n",
       "      <th></th>\n",
       "      <th>response</th>\n",
       "      <th>justification</th>\n",
       "    </tr>\n",
       "  </thead>\n",
       "  <tbody>\n",
       "    <tr>\n",
       "      <th>0</th>\n",
       "      <td>Maybe</td>\n",
       "      <td>I would consider purchasing a new healthy UHT ...</td>\n",
       "    </tr>\n",
       "  </tbody>\n",
       "</table>\n",
       "</div>"
      ],
      "text/plain": [
       "  response                                      justification\n",
       "0    Maybe  I would consider purchasing a new healthy UHT ..."
      ]
     },
     "execution_count": 31,
     "metadata": {},
     "output_type": "execute_result"
    }
   ],
   "source": [
    "df_sg"
   ]
  },
  {
   "cell_type": "code",
   "execution_count": 32,
   "metadata": {},
   "outputs": [
    {
     "data": {
      "text/plain": [
       "<Axes: xlabel='response'>"
      ]
     },
     "execution_count": 32,
     "metadata": {},
     "output_type": "execute_result"
    },
    {
     "data": {
      "image/png": "[encoded data removed]",
      "text/plain": [
       "<Figure size 640x480 with 1 Axes>"
      ]
     },
     "metadata": {},
     "output_type": "display_data"
    }
   ],
   "source": [
    "df_sg[\"response\"].value_counts().plot(kind='bar')"
   ]
  },
  {
   "cell_type": "code",
   "execution_count": 34,
   "metadata": {},
   "outputs": [
    {
     "name": "stdout",
     "output_type": "stream",
     "text": [
      "Positive responses: 0.00%\n",
      "Negative responses: 0.00%\n",
      "Potential customers: 100.00%\n",
      "No response: 0.00%\n",
      "\n",
      "VERDICT: The Malaysian market may need more analysis or product adjustment.\n"
     ]
    },
    {
     "data": {
      "text/plain": [
       "False"
      ]
     },
     "execution_count": 34,
     "metadata": {},
     "output_type": "execute_result"
    }
   ],
   "source": [
    "is_there_a_good_market(df_sg)"
   ]
  },
  {
   "cell_type": "code",
   "execution_count": 35,
   "metadata": {},
   "outputs": [],
   "source": [
    "control.end()"
   ]
  }
 ],
 "metadata": {
  "kernelspec": {
   "display_name": "tinytroupe",
   "language": "python",
   "name": "python3"
  },
  "language_info": {
   "codemirror_mode": {
    "name": "ipython",
    "version": 3
   },
   "file_extension": ".py",
   "mimetype": "text/x-python",
   "name": "python",
   "nbconvert_exporter": "python",
   "pygments_lexer": "ipython3",
   "version": "3.10.16"
  },
  "orig_nbformat": 4
 },
 "nbformat": 4,
 "nbformat_minor": 2
}
