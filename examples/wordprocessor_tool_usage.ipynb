{
 "cells": [
  {
   "cell_type": "markdown",
   "metadata": {},
   "source": [
    "# Wordprocessor usage example\n",
    "\n"
   ]
  },
  {
   "cell_type": "code",
   "execution_count": 1,
   "metadata": {},
   "outputs": [
    {
     "name": "stdout",
     "output_type": "stream",
     "text": [
      "\n",
      "!!!!\n",
      "DISCLAIMER: TinyTroupe relies on Artificial Intelligence (AI) models to generate content. \n",
      "The AI models are not perfect and may produce inappropriate or inacurate results. \n",
      "For any serious or consequential use, please review the generated content before using it.\n",
      "!!!!\n",
      "\n",
      "Looking for default config on: d:\\windsurf_ai\\TinyTroupe\\examples\\..\\tinytroupe\\config.ini\n",
      "Found custom config on: d:\\windsurf_ai\\TinyTroupe\\examples\\config.ini\n",
      "\n",
      "=================================\n",
      "Current TinyTroupe configuration \n",
      "=================================\n",
      "[OpenAI]\n",
      "api_type = openai\n",
      "azure_api_version = 2023-05-15\n",
      "model = gpt-4o-mini\n",
      "max_tokens = 4000\n",
      "temperature = 1.5\n",
      "freq_penalty = 0.3\n",
      "presence_penalty = 0.0\n",
      "timeout = 60\n",
      "max_attempts = 5\n",
      "waiting_time = 2\n",
      "exponential_backoff_factor = 5\n",
      "embedding_model = text-embedding-3-small\n",
      "cache_api_calls = False\n",
      "cache_file_name = openai_api_cache.pickle\n",
      "max_content_display_length = 1024\n",
      "\n",
      "[Simulation]\n",
      "rai_harmful_content_prevention = True\n",
      "rai_copyright_infringement_prevention = True\n",
      "\n",
      "[Logging]\n",
      "loglevel = ERROR\n",
      "\n"
     ]
    }
   ],
   "source": [
    "import json\n",
    "import sys\n",
    "import csv\n",
    "sys.path.insert(0, '..') # ensures that the package is imported from the parent directory, not the Python installation\n",
    "\n",
    "\n",
    "import tinytroupe\n",
    "from tinytroupe.openai_utils import force_api_type\n",
    "from tinytroupe.factory import TinyPersonFactory\n",
    "from tinytroupe.agent import TinyPerson, TinyToolUse\n",
    "from tinytroupe.environment import TinyWorld\n",
    "from tinytroupe import control\n",
    "from tinytroupe.extraction import ResultsExtractor, ResultsReducer\n",
    "from tinytroupe.enrichment import TinyEnricher\n",
    "from tinytroupe.extraction import ArtifactExporter\n",
    "from tinytroupe.tools import TinyWordProcessor\n",
    "from tinytroupe.story import TinyStory\n",
    "import tinytroupe.utils as utils\n",
    "from tinytroupe.examples import create_lisa_the_data_scientist, create_oscar_the_architect, create_marcos_the_physician"
   ]
  },
  {
   "cell_type": "code",
   "execution_count": 2,
   "metadata": {},
   "outputs": [],
   "source": [
    "data_export_folder = \"../data/extractions/wordprocessor\""
   ]
  },
  {
   "cell_type": "code",
   "execution_count": 3,
   "metadata": {},
   "outputs": [],
   "source": [
    "exporter = ArtifactExporter(base_output_folder=data_export_folder)\n",
    "enricher = TinyEnricher()\n",
    "tooluse_faculty = TinyToolUse(tools=[TinyWordProcessor(exporter=exporter, enricher=enricher)])"
   ]
  },
  {
   "cell_type": "code",
   "execution_count": 4,
   "metadata": {},
   "outputs": [],
   "source": [
    "lisa = create_lisa_the_data_scientist()"
   ]
  },
  {
   "cell_type": "code",
   "execution_count": 5,
   "metadata": {},
   "outputs": [
    {
     "data": {
      "text/plain": [
       "TinyPerson(name='Lisa')"
      ]
     },
     "execution_count": 5,
     "metadata": {},
     "output_type": "execute_result"
    }
   ],
   "source": [
    "lisa.add_mental_faculties([tooluse_faculty])\n"
   ]
  },
  {
   "cell_type": "code",
   "execution_count": 6,
   "metadata": {},
   "outputs": [
    {
     "data": {
      "text/html": [
       "<pre style=\"margin:0px;;white-space:pre;overflow-x:auto;line-height:normal;font-family:Menlo,'DejaVu Sans Mono',consolas,'Courier New',monospace\"><span style=\"color: #00ffff; text-decoration-color: #00ffff; font-weight: bold; font-style: italic; text-decoration: underline\">USER</span><span style=\"color: #00ffff; text-decoration-color: #00ffff; font-weight: bold; font-style: italic\"> --&gt; </span><span style=\"color: #00ffff; text-decoration-color: #00ffff; font-weight: bold; font-style: italic; text-decoration: underline\">Lisa</span><span style=\"color: #00ffff; text-decoration-color: #00ffff; font-weight: bold; font-style: italic\">: [CONVERSATION] </span>\n",
       "<span style=\"color: #00ffff; text-decoration-color: #00ffff; font-weight: bold; font-style: italic\">          &gt; You have just been fired and need to find a new job. You decide to think about what you</span>\n",
       "<span style=\"color: #00ffff; text-decoration-color: #00ffff; font-weight: bold; font-style: italic\">          &gt; want in life and then write a resume. Make it very detailed.</span>\n",
       "</pre>\n"
      ],
      "text/plain": [
       "\u001b[1;3;4;38;5;51mUSER\u001b[0m\u001b[1;3;38;5;51m --> \u001b[0m\u001b[1;3;4;38;5;51mLisa\u001b[0m\u001b[1;3;38;5;51m: \u001b[0m\u001b[1;3;38;5;51m[\u001b[0m\u001b[1;3;38;5;51mCONVERSATION\u001b[0m\u001b[1;3;38;5;51m]\u001b[0m\u001b[1;3;38;5;51m \u001b[0m\n",
       "\u001b[1;3;38;5;51m          > You have just been fired and need to find a new job. You decide to think about what you\u001b[0m\n",
       "\u001b[1;3;38;5;51m          > want in life and then write a resume. Make it very detailed.\u001b[0m\n"
      ]
     },
     "metadata": {},
     "output_type": "display_data"
    },
    {
     "data": {
      "text/html": [
       "<pre style=\"margin:0px;;white-space:pre;overflow-x:auto;line-height:normal;font-family:Menlo,'DejaVu Sans Mono',consolas,'Courier New',monospace\"><span style=\"color: #008000; text-decoration-color: #008000; text-decoration: underline\">Lisa</span><span style=\"color: #008000; text-decoration-color: #008000\"> acts: </span><span style=\"color: #008000; text-decoration-color: #008000; font-weight: bold\">[</span><span style=\"color: #008000; text-decoration-color: #008000\">THINK</span><span style=\"color: #008000; text-decoration-color: #008000; font-weight: bold\">]</span><span style=\"color: #008000; text-decoration-color: #008000\"> </span>\n",
       "<span style=\"color: #008000; text-decoration-color: #008000\">          &gt; I need to reflect on what I want in my career and life after being fired. I should</span>\n",
       "<span style=\"color: #008000; text-decoration-color: #008000\">          &gt; consider my skills, interests, and what kind of job would make me happy. I also need to</span>\n",
       "<span style=\"color: #008000; text-decoration-color: #008000\">          &gt; think about how to present myself effectively in a resume.</span>\n",
       "</pre>\n"
      ],
      "text/plain": [
       "\u001b[4;32mLisa\u001b[0m\u001b[32m acts: \u001b[0m\u001b[1;32m[\u001b[0m\u001b[32mTHINK\u001b[0m\u001b[1;32m]\u001b[0m\u001b[32m \u001b[0m\n",
       "\u001b[32m          > I need to reflect on what I want in my career and life after being fired. I should\u001b[0m\n",
       "\u001b[32m          > consider my skills, interests, and what kind of job would make me happy. I also need to\u001b[0m\n",
       "\u001b[32m          > think about how to present myself effectively in a resume.\u001b[0m\n"
      ]
     },
     "metadata": {},
     "output_type": "display_data"
    },
    {
     "data": {
      "text/html": [
       "<pre style=\"margin:0px;;white-space:pre;overflow-x:auto;line-height:normal;font-family:Menlo,'DejaVu Sans Mono',consolas,'Courier New',monospace\"><span style=\"color: #008000; text-decoration-color: #008000; text-decoration: underline\">Lisa</span><span style=\"color: #008000; text-decoration-color: #008000\"> acts: </span><span style=\"color: #008000; text-decoration-color: #008000; font-weight: bold\">[</span><span style=\"color: #008000; text-decoration-color: #008000\">THINK</span><span style=\"color: #008000; text-decoration-color: #008000; font-weight: bold\">]</span><span style=\"color: #008000; text-decoration-color: #008000\"> </span>\n",
       "<span style=\"color: #008000; text-decoration-color: #008000\">          &gt; I should start by identifying my key skills and experiences that I want to highlight in</span>\n",
       "<span style=\"color: #008000; text-decoration-color: #008000\">          &gt; my resume. I need to consider what roles I am interested in and how my background fits</span>\n",
       "<span style=\"color: #008000; text-decoration-color: #008000\">          &gt; those roles. Additionally, I should think about the format of the resume and what</span>\n",
       "<span style=\"color: #008000; text-decoration-color: #008000\">          &gt; sections to include, such as education, work experience, skills, and any relevant</span>\n",
       "<span style=\"color: #008000; text-decoration-color: #008000\">          &gt; projects.</span>\n",
       "</pre>\n"
      ],
      "text/plain": [
       "\u001b[4;32mLisa\u001b[0m\u001b[32m acts: \u001b[0m\u001b[1;32m[\u001b[0m\u001b[32mTHINK\u001b[0m\u001b[1;32m]\u001b[0m\u001b[32m \u001b[0m\n",
       "\u001b[32m          > I should start by identifying my key skills and experiences that I want to highlight in\u001b[0m\n",
       "\u001b[32m          > my resume. I need to consider what roles I am interested in and how my background fits\u001b[0m\n",
       "\u001b[32m          > those roles. Additionally, I should think about the format of the resume and what\u001b[0m\n",
       "\u001b[32m          > sections to include, such as education, work experience, skills, and any relevant\u001b[0m\n",
       "\u001b[32m          > projects.\u001b[0m\n"
      ]
     },
     "metadata": {},
     "output_type": "display_data"
    },
    {
     "data": {
      "text/html": [
       "<pre style=\"margin:0px;;white-space:pre;overflow-x:auto;line-height:normal;font-family:Menlo,'DejaVu Sans Mono',consolas,'Courier New',monospace\"><span style=\"color: #af00ff; text-decoration-color: #af00ff; text-decoration: underline\">Lisa</span><span style=\"color: #af00ff; text-decoration-color: #af00ff\"> acts: </span><span style=\"color: #af00ff; text-decoration-color: #af00ff; font-weight: bold\">[</span><span style=\"color: #af00ff; text-decoration-color: #af00ff\">WRITE_DOCUMENT</span><span style=\"color: #af00ff; text-decoration-color: #af00ff; font-weight: bold\">]</span><span style=\"color: #af00ff; text-decoration-color: #af00ff\"> </span>\n",
       "<span style=\"color: #af00ff; text-decoration-color: #af00ff\">          &gt; # Resume  ## Personal Information - **Name:** Lisa - **Age:** </span><span style=\"color: #af00ff; text-decoration-color: #af00ff; font-weight: bold\">28</span><span style=\"color: #af00ff; text-decoration-color: #af00ff\"> - **Nationality:**</span>\n",
       "<span style=\"color: #af00ff; text-decoration-color: #af00ff\">          &gt; Canadian - **Contact Information:** </span><span style=\"color: #af00ff; text-decoration-color: #af00ff; font-weight: bold\">[</span><span style=\"color: #af00ff; text-decoration-color: #af00ff\">Your Email</span><span style=\"color: #af00ff; text-decoration-color: #af00ff; font-weight: bold\">]</span><span style=\"color: #af00ff; text-decoration-color: #af00ff\"> | </span><span style=\"color: #af00ff; text-decoration-color: #af00ff; font-weight: bold\">[</span><span style=\"color: #af00ff; text-decoration-color: #af00ff\">Your Phone Number</span><span style=\"color: #af00ff; text-decoration-color: #af00ff; font-weight: bold\">]</span><span style=\"color: #af00ff; text-decoration-color: #af00ff\">  ## Objective A</span>\n",
       "<span style=\"color: #af00ff; text-decoration-color: #af00ff\">          &gt; motivated data scientist seeking a challenging position that utilizes my skills in data</span>\n",
       "<span style=\"color: #af00ff; text-decoration-color: #af00ff\">          &gt; analysis, machine learning, and natural language processing to improve user experience</span>\n",
       "<span style=\"color: #af00ff; text-decoration-color: #af00ff\">          &gt; and drive business success.  ## Education - **Master of Science in Data Science**</span>\n",
       "<span style=\"color: #af00ff; text-decoration-color: #af00ff\">          &gt; </span><span style=\"color: #af00ff; text-decoration-color: #af00ff; font-weight: bold\">[</span><span style=\"color: #af00ff; text-decoration-color: #af00ff\">University Name</span><span style=\"color: #af00ff; text-decoration-color: #af00ff; font-weight: bold\">]</span><span style=\"color: #af00ff; text-decoration-color: #af00ff\">, </span><span style=\"color: #af00ff; text-decoration-color: #af00ff; font-weight: bold\">[</span><span style=\"color: #af00ff; text-decoration-color: #af00ff\">Year</span><span style=\"color: #af00ff; text-decoration-color: #af00ff; font-weight: bold\">]</span><span style=\"color: #af00ff; text-decoration-color: #af00ff\">     - Relevant Coursework: Machine Learning, Natural Language</span>\n",
       "<span style=\"color: #af00ff; text-decoration-color: #af00ff\">          &gt; Processing, Data Visualization. - **Bachelor of Science in Computer Science**</span>\n",
       "<span style=\"color: #af00ff; text-decoration-color: #af00ff\">          &gt; </span><span style=\"color: #af00ff; text-decoration-color: #af00ff; font-weight: bold\">[</span><span style=\"color: #af00ff; text-decoration-color: #af00ff\">University Name</span><span style=\"color: #af00ff; text-decoration-color: #af00ff; font-weight: bold\">]</span><span style=\"color: #af00ff; text-decoration-color: #af00ff\">, </span><span style=\"color: #af00ff; text-decoration-color: #af00ff; font-weight: bold\">[</span><span style=\"color: #af00ff; text-decoration-color: #af00ff\">Year</span><span style=\"color: #af00ff; text-decoration-color: #af00ff; font-weight: bold\">]</span><span style=\"color: #af00ff; text-decoration-color: #af00ff\">     - Relevant Coursework: Algorithms, Database Management,</span>\n",
       "<span style=\"color: #af00ff; text-decoration-color: #af00ff\">          &gt; Software Engineering.  ## Work Experience ### Data Scientist   **Microsoft, M365 Search</span>\n",
       "<span style=\"color: #af00ff; text-decoration-color: #af00ff\">          &gt; Team**   </span><span style=\"color: #af00ff; text-decoration-color: #af00ff; font-weight: bold\">[</span><span style=\"color: #af00ff; text-decoration-color: #af00ff\">Start Date</span><span style=\"color: #af00ff; text-decoration-color: #af00ff; font-weight: bold\">]</span><span style=\"color: #af00ff; text-decoration-color: #af00ff\"> - Present   - Analyzed user behavior and feedback data to enhance</span>\n",
       "<span style=\"color: #af00ff; text-decoration-color: #af00ff\">          &gt; search result relevance and quality. - Developed and tested machine learning models for</span>\n",
       "<span style=\"color: #af00ff; text-decoration-color: #af00ff\">          &gt; natural language understanding and query expansion. - Collaborated with  </span><span style=\"color: #af00ff; text-decoration-color: #af00ff; font-weight: bold\">(</span><span style=\"color: #af00ff; text-decoration-color: #af00ff\">...</span><span style=\"color: #af00ff; text-decoration-color: #af00ff; font-weight: bold\">)</span>\n",
       "</pre>\n"
      ],
      "text/plain": [
       "\u001b[4;38;5;129mLisa\u001b[0m\u001b[38;5;129m acts: \u001b[0m\u001b[1;38;5;129m[\u001b[0m\u001b[38;5;129mWRITE_DOCUMENT\u001b[0m\u001b[1;38;5;129m]\u001b[0m\u001b[38;5;129m \u001b[0m\n",
       "\u001b[38;5;129m          > # Resume  ## Personal Information - **Name:** Lisa - **Age:** \u001b[0m\u001b[1;38;5;129m28\u001b[0m\u001b[38;5;129m - **Nationality:**\u001b[0m\n",
       "\u001b[38;5;129m          > Canadian - **Contact Information:** \u001b[0m\u001b[1;38;5;129m[\u001b[0m\u001b[38;5;129mYour Email\u001b[0m\u001b[1;38;5;129m]\u001b[0m\u001b[38;5;129m | \u001b[0m\u001b[1;38;5;129m[\u001b[0m\u001b[38;5;129mYour Phone Number\u001b[0m\u001b[1;38;5;129m]\u001b[0m\u001b[38;5;129m  ## Objective A\u001b[0m\n",
       "\u001b[38;5;129m          > motivated data scientist seeking a challenging position that utilizes my skills in data\u001b[0m\n",
       "\u001b[38;5;129m          > analysis, machine learning, and natural language processing to improve user experience\u001b[0m\n",
       "\u001b[38;5;129m          > and drive business success.  ## Education - **Master of Science in Data Science**\u001b[0m\n",
       "\u001b[38;5;129m          > \u001b[0m\u001b[1;38;5;129m[\u001b[0m\u001b[38;5;129mUniversity Name\u001b[0m\u001b[1;38;5;129m]\u001b[0m\u001b[38;5;129m, \u001b[0m\u001b[1;38;5;129m[\u001b[0m\u001b[38;5;129mYear\u001b[0m\u001b[1;38;5;129m]\u001b[0m\u001b[38;5;129m     - Relevant Coursework: Machine Learning, Natural Language\u001b[0m\n",
       "\u001b[38;5;129m          > Processing, Data Visualization. - **Bachelor of Science in Computer Science**\u001b[0m\n",
       "\u001b[38;5;129m          > \u001b[0m\u001b[1;38;5;129m[\u001b[0m\u001b[38;5;129mUniversity Name\u001b[0m\u001b[1;38;5;129m]\u001b[0m\u001b[38;5;129m, \u001b[0m\u001b[1;38;5;129m[\u001b[0m\u001b[38;5;129mYear\u001b[0m\u001b[1;38;5;129m]\u001b[0m\u001b[38;5;129m     - Relevant Coursework: Algorithms, Database Management,\u001b[0m\n",
       "\u001b[38;5;129m          > Software Engineering.  ## Work Experience ### Data Scientist   **Microsoft, M365 Search\u001b[0m\n",
       "\u001b[38;5;129m          > Team**   \u001b[0m\u001b[1;38;5;129m[\u001b[0m\u001b[38;5;129mStart Date\u001b[0m\u001b[1;38;5;129m]\u001b[0m\u001b[38;5;129m - Present   - Analyzed user behavior and feedback data to enhance\u001b[0m\n",
       "\u001b[38;5;129m          > search result relevance and quality. - Developed and tested machine learning models for\u001b[0m\n",
       "\u001b[38;5;129m          > natural language understanding and query expansion. - Collaborated with  \u001b[0m\u001b[1;38;5;129m(\u001b[0m\u001b[38;5;129m...\u001b[0m\u001b[1;38;5;129m)\u001b[0m\n"
      ]
     },
     "metadata": {},
     "output_type": "display_data"
    },
    {
     "name": "stderr",
     "output_type": "stream",
     "text": [
      "2025-01-19 22:44:24,437 - tinytroupe - ERROR - Error parsing JSON content: Expecting value: line 1 column 1 (char 0). Original content: # Resume\n",
      "\n",
      "## Personal Information\n",
      "- **Name:** Lisa\n",
      "- **Age:** 28\n",
      "- **Nationality:** Canadian\n",
      "- **Contact Information:** [Your Email] | [Your Phone Number]\n",
      "\n",
      "## Objective\n",
      "A motivated data scientist seeking a challenging position that utilizes my skills in data analysis, machine learning, and natural language processing to improve user experience and drive business success.\n",
      "\n",
      "## Education\n",
      "- **Master of Science in Data Science**  \n",
      "  [University Name], [Year]  \n",
      "  - Relevant Coursework: Machine Learning, Natural Language Processing, Data Visualization.\n",
      "- **Bachelor of Science in Computer Science**  \n",
      "  [University Name], [Year]  \n",
      "  - Relevant Coursework: Algorithms, Database Management, Software Engineering.\n",
      "\n",
      "## Work Experience\n",
      "### Data Scientist  \n",
      "**Microsoft, M365 Search Team**  \n",
      "[Start Date] - Present  \n",
      "- Analyzed user behavior and feedback data to enhance search result relevance and quality.\n",
      "- Developed and tested machine learning models for natural language understanding and query expansion.\n",
      "- Collaborated with cross-functional teams to communicate findings and recommendations effectively.\n",
      "- Ensured compliance with privacy and security policies in all data handling processes.\n",
      "\n",
      "### Data Analyst Intern  \n",
      "**[Previous Company Name]**  \n",
      "[Start Date] - [End Date]  \n",
      "- Assisted in data collection and processing for various projects.\n",
      "- Conducted exploratory data analysis to identify trends and insights.\n",
      "- Created visualizations using Power BI to present findings to stakeholders.\n",
      "\n",
      "## Skills\n",
      "- Proficient in Python, SQL, pandas, scikit-learn, TensorFlow, Azure ML.\n",
      "- Familiar with Power BI; struggling with R but willing to learn.\n",
      "\n",
      "## Interests\n",
      "- Artificial intelligence and machine learning.\n",
      "- Cooking and trying new recipes.\n",
      "- Playing the piano and watching movies.\n"
     ]
    },
    {
     "data": {
      "text/html": [
       "<pre style=\"margin:0px;;white-space:pre;overflow-x:auto;line-height:normal;font-family:Menlo,'DejaVu Sans Mono',consolas,'Courier New',monospace\"><span style=\"color: #d0d0d0; text-decoration-color: #d0d0d0; text-decoration: underline\">Lisa</span><span style=\"color: #d0d0d0; text-decoration-color: #d0d0d0\"> acts: </span><span style=\"color: #d0d0d0; text-decoration-color: #d0d0d0; font-weight: bold\">[</span><span style=\"color: #d0d0d0; text-decoration-color: #d0d0d0\">DONE</span><span style=\"color: #d0d0d0; text-decoration-color: #d0d0d0; font-weight: bold\">]</span><span style=\"color: #d0d0d0; text-decoration-color: #d0d0d0\"> </span>\n",
       "\n",
       "</pre>\n"
      ],
      "text/plain": [
       "\u001b[4;38;5;252mLisa\u001b[0m\u001b[38;5;252m acts: \u001b[0m\u001b[1;38;5;252m[\u001b[0m\u001b[38;5;252mDONE\u001b[0m\u001b[1;38;5;252m]\u001b[0m\u001b[38;5;252m \u001b[0m\n",
       "\n"
      ]
     },
     "metadata": {},
     "output_type": "display_data"
    }
   ],
   "source": [
    "lisa.listen_and_act(\"You have just been fired and need to find a new job. You decide to think about what you want in life and then write a resume. Make it very detailed.\")"
   ]
  },
  {
   "cell_type": "code",
   "execution_count": 7,
   "metadata": {},
   "outputs": [
    {
     "data": {
      "text/html": [
       "<pre style=\"margin:0px;;white-space:pre;overflow-x:auto;line-height:normal;font-family:Menlo,'DejaVu Sans Mono',consolas,'Courier New',monospace\"><span style=\"color: #00ffff; text-decoration-color: #00ffff; font-weight: bold; font-style: italic; text-decoration: underline\">USER</span><span style=\"color: #00ffff; text-decoration-color: #00ffff; font-weight: bold; font-style: italic\"> --&gt; </span><span style=\"color: #00ffff; text-decoration-color: #00ffff; font-weight: bold; font-style: italic; text-decoration: underline\">Lisa</span><span style=\"color: #00ffff; text-decoration-color: #00ffff; font-weight: bold; font-style: italic\">: [CONVERSATION] </span>\n",
       "<span style=\"color: #00ffff; text-decoration-color: #00ffff; font-weight: bold; font-style: italic\">          &gt; What did I just told you?</span>\n",
       "</pre>\n"
      ],
      "text/plain": [
       "\u001b[1;3;4;38;5;51mUSER\u001b[0m\u001b[1;3;38;5;51m --> \u001b[0m\u001b[1;3;4;38;5;51mLisa\u001b[0m\u001b[1;3;38;5;51m: \u001b[0m\u001b[1;3;38;5;51m[\u001b[0m\u001b[1;3;38;5;51mCONVERSATION\u001b[0m\u001b[1;3;38;5;51m]\u001b[0m\u001b[1;3;38;5;51m \u001b[0m\n",
       "\u001b[1;3;38;5;51m          > What did I just told you?\u001b[0m\n"
      ]
     },
     "metadata": {},
     "output_type": "display_data"
    },
    {
     "data": {
      "text/html": [
       "<pre style=\"margin:0px;;white-space:pre;overflow-x:auto;line-height:normal;font-family:Menlo,'DejaVu Sans Mono',consolas,'Courier New',monospace\"><span style=\"color: #008000; text-decoration-color: #008000; text-decoration: underline\">Lisa</span><span style=\"color: #008000; text-decoration-color: #008000\"> acts: </span><span style=\"color: #008000; text-decoration-color: #008000; font-weight: bold\">[</span><span style=\"color: #008000; text-decoration-color: #008000\">THINK</span><span style=\"color: #008000; text-decoration-color: #008000; font-weight: bold\">]</span><span style=\"color: #008000; text-decoration-color: #008000\"> </span>\n",
       "<span style=\"color: #008000; text-decoration-color: #008000\">          &gt; I need to recall what I just wrote in my resume and summarize it for the person asking.</span>\n",
       "<span style=\"color: #008000; text-decoration-color: #008000\">          &gt; I should mention my objective, skills, and work experience briefly.</span>\n",
       "</pre>\n"
      ],
      "text/plain": [
       "\u001b[4;32mLisa\u001b[0m\u001b[32m acts: \u001b[0m\u001b[1;32m[\u001b[0m\u001b[32mTHINK\u001b[0m\u001b[1;32m]\u001b[0m\u001b[32m \u001b[0m\n",
       "\u001b[32m          > I need to recall what I just wrote in my resume and summarize it for the person asking.\u001b[0m\n",
       "\u001b[32m          > I should mention my objective, skills, and work experience briefly.\u001b[0m\n"
      ]
     },
     "metadata": {},
     "output_type": "display_data"
    },
    {
     "data": {
      "text/html": [
       "<pre style=\"margin:0px;;white-space:pre;overflow-x:auto;line-height:normal;font-family:Menlo,'DejaVu Sans Mono',consolas,'Courier New',monospace\"><span style=\"color: #00d700; text-decoration-color: #00d700; font-weight: bold; text-decoration: underline\">Lisa</span><span style=\"color: #00d700; text-decoration-color: #00d700; font-weight: bold\"> acts: [TALK] </span>\n",
       "<span style=\"color: #00d700; text-decoration-color: #00d700; font-weight: bold\">          &gt; I just wrote a detailed resume that includes my objective, education, work experience at</span>\n",
       "<span style=\"color: #00d700; text-decoration-color: #00d700; font-weight: bold\">          &gt; Microsoft, and my skills in data science and machine learning.</span>\n",
       "</pre>\n"
      ],
      "text/plain": [
       "\u001b[1;4;38;5;40mLisa\u001b[0m\u001b[1;38;5;40m acts: \u001b[0m\u001b[1;38;5;40m[\u001b[0m\u001b[1;38;5;40mTALK\u001b[0m\u001b[1;38;5;40m]\u001b[0m\u001b[1;38;5;40m \u001b[0m\n",
       "\u001b[1;38;5;40m          > I just wrote a detailed resume that includes my objective, education, work experience at\u001b[0m\n",
       "\u001b[1;38;5;40m          > Microsoft, and my skills in data science and machine learning.\u001b[0m\n"
      ]
     },
     "metadata": {},
     "output_type": "display_data"
    },
    {
     "data": {
      "text/html": [
       "<pre style=\"margin:0px;;white-space:pre;overflow-x:auto;line-height:normal;font-family:Menlo,'DejaVu Sans Mono',consolas,'Courier New',monospace\"><span style=\"color: #d0d0d0; text-decoration-color: #d0d0d0; text-decoration: underline\">Lisa</span><span style=\"color: #d0d0d0; text-decoration-color: #d0d0d0\"> acts: </span><span style=\"color: #d0d0d0; text-decoration-color: #d0d0d0; font-weight: bold\">[</span><span style=\"color: #d0d0d0; text-decoration-color: #d0d0d0\">DONE</span><span style=\"color: #d0d0d0; text-decoration-color: #d0d0d0; font-weight: bold\">]</span><span style=\"color: #d0d0d0; text-decoration-color: #d0d0d0\"> </span>\n",
       "\n",
       "</pre>\n"
      ],
      "text/plain": [
       "\u001b[4;38;5;252mLisa\u001b[0m\u001b[38;5;252m acts: \u001b[0m\u001b[1;38;5;252m[\u001b[0m\u001b[38;5;252mDONE\u001b[0m\u001b[1;38;5;252m]\u001b[0m\u001b[38;5;252m \u001b[0m\n",
       "\n"
      ]
     },
     "metadata": {},
     "output_type": "display_data"
    }
   ],
   "source": [
    "lisa.listen_and_act(\"What did I just told you?\")"
   ]
  },
  {
   "cell_type": "code",
   "execution_count": null,
   "metadata": {},
   "outputs": [],
   "source": []
  }
 ],
 "metadata": {
  "kernelspec": {
   "display_name": "tinytroupe",
   "language": "python",
   "name": "python3"
  },
  "language_info": {
   "codemirror_mode": {
    "name": "ipython",
    "version": 3
   },
   "file_extension": ".py",
   "mimetype": "text/x-python",
   "name": "python",
   "nbconvert_exporter": "python",
   "pygments_lexer": "ipython3",
   "version": "3.10.16"
  },
  "orig_nbformat": 4
 },
 "nbformat": 4,
 "nbformat_minor": 2
}
