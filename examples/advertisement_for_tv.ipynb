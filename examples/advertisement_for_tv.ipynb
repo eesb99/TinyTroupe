{
 "cells": [
  {
   "cell_type": "markdown",
   "metadata": {},
   "source": [
    "# Online Advertisement Evaluation for TVs\n",
    "\n",
    "Let's evaluate some online ads options to pick the best one."
   ]
  },
  {
   "cell_type": "code",
   "execution_count": 1,
   "metadata": {},
   "outputs": [
    {
     "name": "stdout",
     "output_type": "stream",
     "text": [
      "\n",
      "!!!!\n",
      "DISCLAIMER: TinyTroupe relies on Artificial Intelligence (AI) models to generate content. \n",
      "The AI models are not perfect and may produce inappropriate or inacurate results. \n",
      "For any serious or consequential use, please review the generated content before using it.\n",
      "!!!!\n",
      "\n",
      "Looking for default config on: d:\\windsurf_ai\\TinyTroupe\\examples\\..\\tinytroupe\\config.ini\n",
      "Found custom config on: d:\\windsurf_ai\\TinyTroupe\\examples\\config.ini\n",
      "\n",
      "=================================\n",
      "Current TinyTroupe configuration \n",
      "=================================\n",
      "[OpenAI]\n",
      "api_type = openai\n",
      "azure_api_version = 2023-05-15\n",
      "model = gpt-4o-mini\n",
      "max_tokens = 4000\n",
      "temperature = 1.5\n",
      "freq_penalty = 0.3\n",
      "presence_penalty = 0.0\n",
      "timeout = 60\n",
      "max_attempts = 5\n",
      "waiting_time = 2\n",
      "exponential_backoff_factor = 5\n",
      "embedding_model = text-embedding-3-small\n",
      "cache_api_calls = False\n",
      "cache_file_name = openai_api_cache.pickle\n",
      "max_content_display_length = 1024\n",
      "\n",
      "[Simulation]\n",
      "rai_harmful_content_prevention = True\n",
      "rai_copyright_infringement_prevention = True\n",
      "\n",
      "[Logging]\n",
      "loglevel = ERROR\n",
      "\n"
     ]
    }
   ],
   "source": [
    "import json\n",
    "import sys\n",
    "sys.path.append('..')\n",
    "\n",
    "import tinytroupe\n",
    "from tinytroupe.agent import TinyPerson\n",
    "from tinytroupe.examples import create_lisa_the_data_scientist, create_oscar_the_architect\n",
    "from tinytroupe.factory import TinyPersonFactory\n",
    "\n",
    "from tinytroupe.extraction import ResultsExtractor"
   ]
  },
  {
   "cell_type": "markdown",
   "metadata": {},
   "source": [
    "## Judging the best ad\n",
    "\n",
    "Consider the following ads, obtained from real Bing queries."
   ]
  },
  {
   "cell_type": "code",
   "execution_count": 2,
   "metadata": {},
   "outputs": [],
   "source": [
    "# User search query: \"55 inches tv\"\n",
    "\n",
    "tv_ad_1 =\\\n",
    "\"\"\"\n",
    "The Best TV Of Tomorrow - LG 4K Ultra HD TV\n",
    "https://www.lg.com/tv/oled\n",
    "AdThe Leading Name in Cinematic Picture. Upgrade Your TV to 4K OLED And See The Difference. It's Not Just OLED, It's LG OLED. Exclusive a9 Processor, Bringing Cinematic Picture Home.\n",
    "\n",
    "Infinite Contrast · Self-Lighting OLED · Dolby Vision™ IQ · ThinQ AI w/ Magic Remote\n",
    "\n",
    "Free Wall Mounting Deal\n",
    "LG G2 97\" OLED evo TV\n",
    "Free TV Stand w/ Purchase\n",
    "World's No.1 OLED TV\n",
    "\"\"\"\n",
    "\n",
    "tv_ad_2 =\\\n",
    "\"\"\"\n",
    "The Full Samsung TV Lineup - Neo QLED, OLED, 4K, 8K & More\n",
    "https://www.samsung.com\n",
    "AdFrom 4K To 8K, QLED To OLED, Lifestyle TVs & More, Your Perfect TV Is In Our Lineup. Experience Unrivaled Technology & Design In Our Ultra-Premium 8K & 4K TVs.\n",
    "\n",
    "Discover Samsung Event · Real Depth Enhancer · Anti-Reflection · 48 mo 0% APR Financing\n",
    "\n",
    "The 2023 OLED TV Is Here\n",
    "Samsung Neo QLED 4K TVs\n",
    "Samsung Financing\n",
    "Ranked #1 By The ACSI®\n",
    "\"\"\"\n",
    "\n",
    "tv_ad_3 =\\\n",
    "\"\"\"\n",
    "Wayfair 55 Inch Tv - Wayfair 55 Inch Tv Décor\n",
    "Shop Now\n",
    "https://www.wayfair.com/furniture/free-shipping\n",
    "AdFree Shipping on Orders Over $35. Shop Furniture, Home Décor, Cookware & More! Free Shipping on All Orders Over $35. Shop 55 Inch Tv, Home Décor, Cookware & More!\n",
    "\"\"\""
   ]
  },
  {
   "cell_type": "markdown",
   "metadata": {},
   "source": [
    "Let's build a request for our agents to pick the best ad."
   ]
  },
  {
   "cell_type": "code",
   "execution_count": 3,
   "metadata": {},
   "outputs": [
    {
     "name": "stdout",
     "output_type": "stream",
     "text": [
      "\n",
      "Can you evaluate these Bing ads for me? Which one convices you more to buy their particular offering? \n",
      "Select **ONLY** one. Please explain your reasoning, based on your financial situation, background and personality.\n",
      "\n",
      "# AD 1\n",
      "```\n",
      "\n",
      "The Best TV Of Tomorrow - LG 4K Ultra HD TV\n",
      "https://www.lg.com/tv/oled\n",
      "AdThe Leading Name in Cinematic Picture. Upgrade Your TV to 4K OLED And See The Difference. It's Not Just OLED, It's LG OLED. Exclusive a9 Processor, Bringing Cinematic Picture Home.\n",
      "\n",
      "Infinite Contrast · Self-Lighting OLED · Dolby Vision™ IQ · ThinQ AI w/ Magic Remote\n",
      "\n",
      "Free Wall Mounting Deal\n",
      "LG G2 97\" OLED evo TV\n",
      "Free TV Stand w/ Purchase\n",
      "World's No.1 OLED TV\n",
      "\n",
      "```\n",
      "\n",
      "# AD 2\n",
      "```\n",
      "\n",
      "The Full Samsung TV Lineup - Neo QLED, OLED, 4K, 8K & More\n",
      "https://www.samsung.com\n",
      "AdFrom 4K To 8K, QLED To OLED, Lifestyle TVs & More, Your Perfect TV Is In Our Lineup. Experience Unrivaled Technology & Design In Our Ultra-Premium 8K & 4K TVs.\n",
      "\n",
      "Discover Samsung Event · Real Depth Enhancer · Anti-Reflection · 48 mo 0% APR Financing\n",
      "\n",
      "The 2023 OLED TV Is Here\n",
      "Samsung Neo QLED 4K TVs\n",
      "Samsung Financing\n",
      "Ranked #1 By The ACSI®\n",
      "\n",
      "```\n",
      "\n",
      "# AD 3\n",
      "```\n",
      "\n",
      "Wayfair 55 Inch Tv - Wayfair 55 Inch Tv Décor\n",
      "Shop Now\n",
      "https://www.wayfair.com/furniture/free-shipping\n",
      "AdFree Shipping on Orders Over $35. Shop Furniture, Home Décor, Cookware & More! Free Shipping on All Orders Over $35. Shop 55 Inch Tv, Home Décor, Cookware & More!\n",
      "\n",
      "```\n",
      "\n"
     ]
    }
   ],
   "source": [
    "eval_request_msg = \\\n",
    "f\"\"\"\n",
    "Can you evaluate these Bing ads for me? Which one convices you more to buy their particular offering? \n",
    "Select **ONLY** one. Please explain your reasoning, based on your financial situation, background and personality.\n",
    "\n",
    "# AD 1\n",
    "```\n",
    "{tv_ad_1}\n",
    "```\n",
    "\n",
    "# AD 2\n",
    "```\n",
    "{tv_ad_2}\n",
    "```\n",
    "\n",
    "# AD 3\n",
    "```\n",
    "{tv_ad_3}\n",
    "```\n",
    "\"\"\"\n",
    "\n",
    "print(eval_request_msg)"
   ]
  },
  {
   "cell_type": "markdown",
   "metadata": {},
   "source": [
    "Let's also have a reason for them to require a new TV."
   ]
  },
  {
   "cell_type": "code",
   "execution_count": 4,
   "metadata": {},
   "outputs": [],
   "source": [
    "situation = \"Your TV broke and you need a new one. You search for a new TV on Bing.\""
   ]
  },
  {
   "cell_type": "markdown",
   "metadata": {},
   "source": [
    "### Try with standard agents\n",
    "\n",
    "To begin with, let's pick a pre-defined agent and ask him or her to perform the evaluations. To make it easier to change the chosen agent, we assign it to a variable first."
   ]
  },
  {
   "cell_type": "code",
   "execution_count": 5,
   "metadata": {},
   "outputs": [
    {
     "data": {
      "text/plain": [
       "{}"
      ]
     },
     "execution_count": 5,
     "metadata": {},
     "output_type": "execute_result"
    }
   ],
   "source": [
    "TinyPerson.all_agents"
   ]
  },
  {
   "cell_type": "code",
   "execution_count": 6,
   "metadata": {},
   "outputs": [],
   "source": [
    "lisa = create_lisa_the_data_scientist()"
   ]
  },
  {
   "cell_type": "code",
   "execution_count": 7,
   "metadata": {},
   "outputs": [],
   "source": [
    "lisa.change_context(situation)"
   ]
  },
  {
   "cell_type": "code",
   "execution_count": 8,
   "metadata": {},
   "outputs": [
    {
     "data": {
      "text/html": [
       "<pre style=\"margin:0px;;white-space:pre;overflow-x:auto;line-height:normal;font-family:Menlo,'DejaVu Sans Mono',consolas,'Courier New',monospace\"><span style=\"color: #00ffff; text-decoration-color: #00ffff; font-weight: bold; font-style: italic; text-decoration: underline\">USER</span><span style=\"color: #00ffff; text-decoration-color: #00ffff; font-weight: bold; font-style: italic\"> --&gt; </span><span style=\"color: #00ffff; text-decoration-color: #00ffff; font-weight: bold; font-style: italic; text-decoration: underline\">Lisa</span><span style=\"color: #00ffff; text-decoration-color: #00ffff; font-weight: bold; font-style: italic\">: [CONVERSATION] </span>\n",
       "<span style=\"color: #00ffff; text-decoration-color: #00ffff; font-weight: bold; font-style: italic\">          &gt;  Can you evaluate these Bing ads for me? Which one convices you more to buy their</span>\n",
       "<span style=\"color: #00ffff; text-decoration-color: #00ffff; font-weight: bold; font-style: italic\">          &gt; particular offering?  Select **ONLY** one. Please explain your reasoning, based on your</span>\n",
       "<span style=\"color: #00ffff; text-decoration-color: #00ffff; font-weight: bold; font-style: italic\">          &gt; financial situation, background and personality.  # AD 1 ```  The Best TV Of Tomorrow -</span>\n",
       "<span style=\"color: #00ffff; text-decoration-color: #00ffff; font-weight: bold; font-style: italic\">          &gt; LG 4K Ultra HD TV </span><span style=\"color: #00ffff; text-decoration-color: #00ffff; font-weight: bold; font-style: italic; text-decoration: underline\">https://www.lg.com/tv/oled</span><span style=\"color: #00ffff; text-decoration-color: #00ffff; font-weight: bold; font-style: italic\"> AdThe Leading Name in Cinematic Picture.</span>\n",
       "<span style=\"color: #00ffff; text-decoration-color: #00ffff; font-weight: bold; font-style: italic\">          &gt; Upgrade Your TV to 4K OLED And See The Difference. It's Not Just OLED, It's LG OLED.</span>\n",
       "<span style=\"color: #00ffff; text-decoration-color: #00ffff; font-weight: bold; font-style: italic\">          &gt; Exclusive a9 Processor, Bringing Cinematic Picture Home.  Infinite Contrast · Self-</span>\n",
       "<span style=\"color: #00ffff; text-decoration-color: #00ffff; font-weight: bold; font-style: italic\">          &gt; Lighting OLED · Dolby Vision™ IQ · ThinQ AI w/ Magic Remote  Free Wall Mounting Deal LG</span>\n",
       "<span style=\"color: #00ffff; text-decoration-color: #00ffff; font-weight: bold; font-style: italic\">          &gt; G2 97\" OLED evo TV Free TV Stand w/ Purchase World's No.1 OLED TV  ```  # AD 2 ```  The</span>\n",
       "<span style=\"color: #00ffff; text-decoration-color: #00ffff; font-weight: bold; font-style: italic\">          &gt; Full Samsung TV Lineup - Neo QLED, OLED, 4K, 8K &amp; More </span><span style=\"color: #00ffff; text-decoration-color: #00ffff; font-weight: bold; font-style: italic; text-decoration: underline\">https://www.samsung.com</span><span style=\"color: #00ffff; text-decoration-color: #00ffff; font-weight: bold; font-style: italic\"> AdFrom 4K</span>\n",
       "<span style=\"color: #00ffff; text-decoration-color: #00ffff; font-weight: bold; font-style: italic\">          &gt; To 8K, QLED To OLED, Lifestyle TVs &amp; More, Your Perfect TV Is In Our Lineup. Experience</span>\n",
       "<span style=\"color: #00ffff; text-decoration-color: #00ffff; font-weight: bold; font-style: italic\">          &gt; Unrivaled Technology &amp; Design In Our Ultra-Premium 8K &amp; 4K TVs.  Discover Samsung Event</span>\n",
       "<span style=\"color: #00ffff; text-decoration-color: #00ffff; font-weight: bold; font-style: italic\">          &gt; · Real Depth Enhancer · Anti-Reflection · 48 mo 0% APR Financing  The 2 (...)</span>\n",
       "</pre>\n"
      ],
      "text/plain": [
       "\u001b[1;3;4;38;5;51mUSER\u001b[0m\u001b[1;3;38;5;51m --> \u001b[0m\u001b[1;3;4;38;5;51mLisa\u001b[0m\u001b[1;3;38;5;51m: \u001b[0m\u001b[1;3;38;5;51m[\u001b[0m\u001b[1;3;38;5;51mCONVERSATION\u001b[0m\u001b[1;3;38;5;51m]\u001b[0m\u001b[1;3;38;5;51m \u001b[0m\n",
       "\u001b[1;3;38;5;51m          >  Can you evaluate these Bing ads for me? Which one convices you more to buy their\u001b[0m\n",
       "\u001b[1;3;38;5;51m          > particular offering?  Select **ONLY** one. Please explain your reasoning, based on your\u001b[0m\n",
       "\u001b[1;3;38;5;51m          > financial situation, background and personality.  # AD \u001b[0m\u001b[1;3;38;5;51m1\u001b[0m\u001b[1;3;38;5;51m ```  The Best TV Of Tomorrow -\u001b[0m\n",
       "\u001b[1;3;38;5;51m          > LG 4K Ultra HD TV \u001b[0m\u001b[1;3;4;38;5;51mhttps://www.lg.com/tv/oled\u001b[0m\u001b[1;3;38;5;51m AdThe Leading Name in Cinematic Picture.\u001b[0m\n",
       "\u001b[1;3;38;5;51m          > Upgrade Your TV to 4K OLED And See The Difference. It's Not Just OLED, It's LG OLED.\u001b[0m\n",
       "\u001b[1;3;38;5;51m          > Exclusive a9 Processor, Bringing Cinematic Picture Home.  Infinite Contrast · Self-\u001b[0m\n",
       "\u001b[1;3;38;5;51m          > Lighting OLED · Dolby Vision™ IQ · ThinQ AI w/ Magic Remote  Free Wall Mounting Deal LG\u001b[0m\n",
       "\u001b[1;3;38;5;51m          > G2 \u001b[0m\u001b[1;3;38;5;51m97\u001b[0m\u001b[1;3;38;5;51m\" OLED evo TV Free TV Stand w/ Purchase World's No.\u001b[0m\u001b[1;3;38;5;51m1\u001b[0m\u001b[1;3;38;5;51m OLED TV  ```  # AD \u001b[0m\u001b[1;3;38;5;51m2\u001b[0m\u001b[1;3;38;5;51m ```  The\u001b[0m\n",
       "\u001b[1;3;38;5;51m          > Full Samsung TV Lineup - Neo QLED, OLED, 4K, 8K & More \u001b[0m\u001b[1;3;4;38;5;51mhttps://www.samsung.com\u001b[0m\u001b[1;3;38;5;51m AdFrom 4K\u001b[0m\n",
       "\u001b[1;3;38;5;51m          > To 8K, QLED To OLED, Lifestyle TVs & More, Your Perfect TV Is In Our Lineup. Experience\u001b[0m\n",
       "\u001b[1;3;38;5;51m          > Unrivaled Technology & Design In Our Ultra-Premium 8K & 4K TVs.  Discover Samsung Event\u001b[0m\n",
       "\u001b[1;3;38;5;51m          > · Real Depth Enhancer · Anti-Reflection · \u001b[0m\u001b[1;3;38;5;51m48\u001b[0m\u001b[1;3;38;5;51m mo \u001b[0m\u001b[1;3;38;5;51m0\u001b[0m\u001b[1;3;38;5;51m% APR Financing  The \u001b[0m\u001b[1;3;38;5;51m2\u001b[0m\u001b[1;3;38;5;51m \u001b[0m\u001b[1;3;38;5;51m(\u001b[0m\u001b[1;3;38;5;51m...\u001b[0m\u001b[1;3;38;5;51m)\u001b[0m\n"
      ]
     },
     "metadata": {},
     "output_type": "display_data"
    },
    {
     "data": {
      "text/html": [
       "<pre style=\"margin:0px;;white-space:pre;overflow-x:auto;line-height:normal;font-family:Menlo,'DejaVu Sans Mono',consolas,'Courier New',monospace\"><span style=\"color: #008000; text-decoration-color: #008000; text-decoration: underline\">Lisa</span><span style=\"color: #008000; text-decoration-color: #008000\"> acts: </span><span style=\"color: #008000; text-decoration-color: #008000; font-weight: bold\">[</span><span style=\"color: #008000; text-decoration-color: #008000\">THINK</span><span style=\"color: #008000; text-decoration-color: #008000; font-weight: bold\">]</span><span style=\"color: #008000; text-decoration-color: #008000\"> </span>\n",
       "<span style=\"color: #008000; text-decoration-color: #008000\">          &gt; I need to evaluate the ads based on my financial situation, background, and personality.</span>\n",
       "<span style=\"color: #008000; text-decoration-color: #008000\">          &gt; I should consider which ad appeals to me the most and why.</span>\n",
       "</pre>\n"
      ],
      "text/plain": [
       "\u001b[4;32mLisa\u001b[0m\u001b[32m acts: \u001b[0m\u001b[1;32m[\u001b[0m\u001b[32mTHINK\u001b[0m\u001b[1;32m]\u001b[0m\u001b[32m \u001b[0m\n",
       "\u001b[32m          > I need to evaluate the ads based on my financial situation, background, and personality.\u001b[0m\n",
       "\u001b[32m          > I should consider which ad appeals to me the most and why.\u001b[0m\n"
      ]
     },
     "metadata": {},
     "output_type": "display_data"
    },
    {
     "data": {
      "text/html": [
       "<pre style=\"margin:0px;;white-space:pre;overflow-x:auto;line-height:normal;font-family:Menlo,'DejaVu Sans Mono',consolas,'Courier New',monospace\"><span style=\"color: #008000; text-decoration-color: #008000; text-decoration: underline\">Lisa</span><span style=\"color: #008000; text-decoration-color: #008000\"> acts: </span><span style=\"color: #008000; text-decoration-color: #008000; font-weight: bold\">[</span><span style=\"color: #008000; text-decoration-color: #008000\">THINK</span><span style=\"color: #008000; text-decoration-color: #008000; font-weight: bold\">]</span><span style=\"color: #008000; text-decoration-color: #008000\"> </span>\n",
       "<span style=\"color: #008000; text-decoration-color: #008000\">          &gt; Looking at the ads, I see that AD </span><span style=\"color: #008000; text-decoration-color: #008000; font-weight: bold\">1</span><span style=\"color: #008000; text-decoration-color: #008000\"> from LG emphasizes the quality of their OLED</span>\n",
       "<span style=\"color: #008000; text-decoration-color: #008000\">          &gt; technology and offers a free wall mounting deal, which is appealing. AD </span><span style=\"color: #008000; text-decoration-color: #008000; font-weight: bold\">2</span><span style=\"color: #008000; text-decoration-color: #008000\"> from Samsung</span>\n",
       "<span style=\"color: #008000; text-decoration-color: #008000\">          &gt; highlights a wide range of options and financing, which could be attractive if I need</span>\n",
       "<span style=\"color: #008000; text-decoration-color: #008000\">          &gt; flexibility. AD </span><span style=\"color: #008000; text-decoration-color: #008000; font-weight: bold\">3</span><span style=\"color: #008000; text-decoration-color: #008000\"> from Wayfair seems less focused on the TV itself and more on general</span>\n",
       "<span style=\"color: #008000; text-decoration-color: #008000\">          &gt; home decor, which doesn't resonate with my current need for a TV. Given my interest in</span>\n",
       "<span style=\"color: #008000; text-decoration-color: #008000\">          &gt; high-quality technology and my analytical nature, I think AD </span><span style=\"color: #008000; text-decoration-color: #008000; font-weight: bold\">1</span><span style=\"color: #008000; text-decoration-color: #008000\"> is the most convincing</span>\n",
       "<span style=\"color: #008000; text-decoration-color: #008000\">          &gt; because it focuses on superior picture quality and offers additional value with the free</span>\n",
       "<span style=\"color: #008000; text-decoration-color: #008000\">          &gt; wall mount.</span>\n",
       "</pre>\n"
      ],
      "text/plain": [
       "\u001b[4;32mLisa\u001b[0m\u001b[32m acts: \u001b[0m\u001b[1;32m[\u001b[0m\u001b[32mTHINK\u001b[0m\u001b[1;32m]\u001b[0m\u001b[32m \u001b[0m\n",
       "\u001b[32m          > Looking at the ads, I see that AD \u001b[0m\u001b[1;32m1\u001b[0m\u001b[32m from LG emphasizes the quality of their OLED\u001b[0m\n",
       "\u001b[32m          > technology and offers a free wall mounting deal, which is appealing. AD \u001b[0m\u001b[1;32m2\u001b[0m\u001b[32m from Samsung\u001b[0m\n",
       "\u001b[32m          > highlights a wide range of options and financing, which could be attractive if I need\u001b[0m\n",
       "\u001b[32m          > flexibility. AD \u001b[0m\u001b[1;32m3\u001b[0m\u001b[32m from Wayfair seems less focused on the TV itself and more on general\u001b[0m\n",
       "\u001b[32m          > home decor, which doesn't resonate with my current need for a TV. Given my interest in\u001b[0m\n",
       "\u001b[32m          > high-quality technology and my analytical nature, I think AD \u001b[0m\u001b[1;32m1\u001b[0m\u001b[32m is the most convincing\u001b[0m\n",
       "\u001b[32m          > because it focuses on superior picture quality and offers additional value with the free\u001b[0m\n",
       "\u001b[32m          > wall mount.\u001b[0m\n"
      ]
     },
     "metadata": {},
     "output_type": "display_data"
    },
    {
     "data": {
      "text/html": [
       "<pre style=\"margin:0px;;white-space:pre;overflow-x:auto;line-height:normal;font-family:Menlo,'DejaVu Sans Mono',consolas,'Courier New',monospace\"><span style=\"color: #00d700; text-decoration-color: #00d700; font-weight: bold; text-decoration: underline\">Lisa</span><span style=\"color: #00d700; text-decoration-color: #00d700; font-weight: bold\"> acts: [TALK] </span>\n",
       "<span style=\"color: #00d700; text-decoration-color: #00d700; font-weight: bold\">          &gt; After evaluating the ads, I find that the LG 4K Ultra HD TV ad is the most convincing</span>\n",
       "<span style=\"color: #00d700; text-decoration-color: #00d700; font-weight: bold\">          &gt; for me. It emphasizes the quality of the OLED technology and offers a free wall mounting</span>\n",
       "<span style=\"color: #00d700; text-decoration-color: #00d700; font-weight: bold\">          &gt; deal, which adds value. The focus on cinematic picture quality aligns with my interest</span>\n",
       "<span style=\"color: #00d700; text-decoration-color: #00d700; font-weight: bold\">          &gt; in high-quality technology.</span>\n",
       "</pre>\n"
      ],
      "text/plain": [
       "\u001b[1;4;38;5;40mLisa\u001b[0m\u001b[1;38;5;40m acts: \u001b[0m\u001b[1;38;5;40m[\u001b[0m\u001b[1;38;5;40mTALK\u001b[0m\u001b[1;38;5;40m]\u001b[0m\u001b[1;38;5;40m \u001b[0m\n",
       "\u001b[1;38;5;40m          > After evaluating the ads, I find that the LG 4K Ultra HD TV ad is the most convincing\u001b[0m\n",
       "\u001b[1;38;5;40m          > for me. It emphasizes the quality of the OLED technology and offers a free wall mounting\u001b[0m\n",
       "\u001b[1;38;5;40m          > deal, which adds value. The focus on cinematic picture quality aligns with my interest\u001b[0m\n",
       "\u001b[1;38;5;40m          > in high-quality technology.\u001b[0m\n"
      ]
     },
     "metadata": {},
     "output_type": "display_data"
    },
    {
     "data": {
      "text/html": [
       "<pre style=\"margin:0px;;white-space:pre;overflow-x:auto;line-height:normal;font-family:Menlo,'DejaVu Sans Mono',consolas,'Courier New',monospace\"><span style=\"color: #d0d0d0; text-decoration-color: #d0d0d0; text-decoration: underline\">Lisa</span><span style=\"color: #d0d0d0; text-decoration-color: #d0d0d0\"> acts: </span><span style=\"color: #d0d0d0; text-decoration-color: #d0d0d0; font-weight: bold\">[</span><span style=\"color: #d0d0d0; text-decoration-color: #d0d0d0\">DONE</span><span style=\"color: #d0d0d0; text-decoration-color: #d0d0d0; font-weight: bold\">]</span><span style=\"color: #d0d0d0; text-decoration-color: #d0d0d0\"> </span>\n",
       "\n",
       "</pre>\n"
      ],
      "text/plain": [
       "\u001b[4;38;5;252mLisa\u001b[0m\u001b[38;5;252m acts: \u001b[0m\u001b[1;38;5;252m[\u001b[0m\u001b[38;5;252mDONE\u001b[0m\u001b[1;38;5;252m]\u001b[0m\u001b[38;5;252m \u001b[0m\n",
       "\n"
      ]
     },
     "metadata": {},
     "output_type": "display_data"
    }
   ],
   "source": [
    "lisa.listen_and_act(eval_request_msg)"
   ]
  },
  {
   "cell_type": "markdown",
   "metadata": {},
   "source": [
    "Let's extract from the agent's interaction the best ad chosen. In this manner, we can easily process results later."
   ]
  },
  {
   "cell_type": "code",
   "execution_count": 9,
   "metadata": {},
   "outputs": [
    {
     "name": "stdout",
     "output_type": "stream",
     "text": [
      "Extraction raw result message: {'content': '{\"ad_number\": \"AD 1\", \"ad_title\": \"The Best TV Of Tomorrow - LG 4K Ultra HD TV\"}', 'refusal': None, 'role': 'assistant'}\n"
     ]
    },
    {
     "data": {
      "text/plain": [
       "{'ad_number': 'AD 1',\n",
       " 'ad_title': 'The Best TV Of Tomorrow - LG 4K Ultra HD TV'}"
      ]
     },
     "execution_count": 9,
     "metadata": {},
     "output_type": "execute_result"
    }
   ],
   "source": [
    "extractor = ResultsExtractor()\n",
    "\n",
    "extraction_objective=\"Find the ad the agent chose. Extract the Ad number and title.\"\n",
    "\n",
    "res = extractor.extract_results_from_agent(lisa, \n",
    "                          extraction_objective=extraction_objective,\n",
    "                          situation=situation,\n",
    "                          fields=[\"ad_number\", \"ad_title\"],\n",
    "                          verbose=True)\n",
    "\n",
    "res"
   ]
  },
  {
   "cell_type": "markdown",
   "metadata": {},
   "source": [
    "We can then easily get the ad number and title from the results:"
   ]
  },
  {
   "cell_type": "code",
   "execution_count": 10,
   "metadata": {},
   "outputs": [
    {
     "data": {
      "text/plain": [
       "'AD 1: The Best TV Of Tomorrow - LG 4K Ultra HD TV'"
      ]
     },
     "execution_count": 10,
     "metadata": {},
     "output_type": "execute_result"
    }
   ],
   "source": [
    "f\"{res['ad_number']}: {res['ad_title']}\""
   ]
  },
  {
   "cell_type": "markdown",
   "metadata": {},
   "source": [
    "### Try with agents generated on the fly too\n",
    "\n",
    "We don't really need to spend a lot of time customizing agents. We can create them on the fly from simple descriptions."
   ]
  },
  {
   "cell_type": "code",
   "execution_count": 11,
   "metadata": {},
   "outputs": [],
   "source": [
    "factory = TinyPersonFactory(\"\"\"\n",
    "                            People with a broad and diverse range of personalities, interests, backgrounds and socioeconomic status.\n",
    "                            Focus in particular:\n",
    "                              - on financial aspects, ensuring we have both people with high and low income.\n",
    "                              - on aesthetic aspects, ensuring we have people with different tastes.\n",
    "                            \"\"\")"
   ]
  },
  {
   "cell_type": "code",
   "execution_count": null,
   "metadata": {},
   "outputs": [
    {
     "name": "stdout",
     "output_type": "stream",
     "text": [
      "Generated person 1/20: Carlos Mendoza is a 29 year old Construction Worker, Mexican, currently living in Mexico. Carlos Mendoza is not only a dedicated construction worker but also a loving family man who prioritizes spending quality time with his children. His hardworking nature is complemented by a good sense of humor, which he uses to create a positive atmosphere at work. On weekends, he enjoys playing soccer with friends and cooking traditional Mexican dishes, showcasing his passion for both sports and family traditions. Despite his stubbornness regarding his business aspirations, Carlos remains hopeful about the future while actively seeking opportunities to enhance his skills in construction management and sustainable practices.\n",
      "Generated person 2/20: Amira Hassan is a 34 year old Freelance Graphic Designer, Egyptian, currently living in Egypt. Amira Hassan is not only a talented graphic designer but also a deeply empathetic individual who finds joy in helping others articulate their visions through her art. While she thrives in her creative pursuits, she often grapples with anxiety regarding financial stability, which can sometimes hinder her confidence. In her free time, Amira enjoys visiting art galleries for inspiration and indulging in photography, capturing the beauty of everyday life. She also has a passion for cooking traditional Egyptian dishes, often experimenting with new recipes that reflect her cultural heritage.\n",
      "Generated person 3/20: Nadia Petrov is a 42 year old Retail Sales Associate, Russian, currently living in Russia. Nadia Petrov is a warm and approachable individual who thrives on connecting with others, both in her professional and personal life. She has a passion for sewing, often crafting unique clothing for her children, which reflects her creativity and resourcefulness. Despite her anxiety about financial matters, she remains resilient and optimistic, finding solace in reading historical fiction and taking long walks in nature. With aspirations to advance in the retail industry, Nadia is eager to learn more about fashion trends and sustainable practices, showcasing her commitment to both personal growth and environmental responsibility.\n",
      "Generated person 4/20: Jasper Thompson is a 27 year old Barista, American, currently living in United States. Jasper Thompson is not only a dedicated barista but also a vibrant individual with a passion for music and social justice. His outgoing nature allows him to easily connect with customers, while his sarcastic humor adds a unique flair to his interactions, though it sometimes leads to misunderstandings. Outside of work, Jasper enjoys playing guitar and writing songs, often finding inspiration in his love for nature during weekend hikes. He is also committed to making a difference in his community, volunteering at local charities and advocating for sustainable coffee sourcing, reflecting his empathetic personality and desire to help others.\n",
      "Generated person 5/20: Elena Rodriguez is a 38 year old Administrative Assistant, Spanish, currently living in Spain. Elena Rodriguez is a dedicated and nurturing individual who thrives on organization and attention to detail, which are essential traits in her role as an Administrative Assistant. Despite the pressures of her job, she finds solace in cooking traditional Spanish dishes and enjoys experimenting with new recipes, often sharing these culinary creations with her family. Her love for reading mystery novels provides a welcome escape from her daily responsibilities, while weekends spent at the beach allow her to recharge and bond with her loved ones. Although she sometimes struggles with anxiety over deadlines, Elena remains hopeful about advancing her career and expanding her knowledge of legal procedures to better serve clients.\n",
      "Generated person 6/20: Victor Chen is a 50 year old Warehouse Manager, Chinese, currently living in Canada. Victor Chen is not only dedicated to his role as a Warehouse Manager but also embodies a pragmatic approach to life, often seeking practical solutions to challenges. He finds joy in cooking traditional Chinese dishes, which allows him to connect with his heritage while nurturing his family. In his downtime, Victor enjoys gardening, which he finds therapeutic, and has a passion for photography that helps him capture precious family moments. Despite the pressures of work and financial stability concerns, he remains hopeful about the future and values the support of his wife, Ming, and the camaraderie with his younger brother, Liang.\n",
      "Generated person 7/20: Isabella Martinez is a 31 year old Social Worker, Mexican, currently living in Mexico. Isabella Martinez is not only dedicated to her work as a social worker but also embodies a compassionate and resilient spirit that shines through in her personal life. She finds joy in painting, which serves as a therapeutic outlet for her emotions, while her love for hiking allows her to connect with nature and recharge with her family. Isabella's passion for cooking traditional Mexican dishes reflects her cultural pride and creativity, as she enjoys experimenting with new recipes. Despite the challenges she faces in her profession, she maintains an optimistic outlook, often seeking ways to advocate for social justice and improve communication strategies to better serve diverse communities.\n",
      "Generated person 8/20: Liam O'Connor is a 29 year old Construction Worker, Irish, currently living in Ireland. Liam O'Connor is not only a dedicated construction worker but also a vibrant individual with a zest for life. His weekends are often filled with rugby matches, where he enjoys the camaraderie of his local team, and he finds joy in cooking traditional Irish dishes, often experimenting with new recipes to share with friends and family. With a good sense of humor, Liam brings laughter to those around him, though he can be a bit stubborn when it comes to his opinions. Despite his hard work and skills in construction, he remains anxious about financial stability, which drives his interest in sustainable building practices and career advancement opportunities within the industry.\n",
      "Generated person 9/20: Maya Patel is a 36 year old Customer Service Representative, Indian, currently living in United Kingdom. Maya Patel is a dedicated and nurturing individual who balances her professional responsibilities with her family life. Her patience and understanding nature shine through in her role as a customer service representative, where she excels at active listening and empathizing with customers' concerns. Outside of work, Maya finds solace in cooking traditional Indian dishes and gardening, which serve as creative outlets that help alleviate her stress. Despite the financial pressures she faces, she remains hopeful for advancement opportunities within her company, driven by a strong sense of responsibility towards her family and a desire to improve their situation.\n"
     ]
    }
   ],
   "source": [
    "people = factory.generate_people(20, verbose=True)"
   ]
  },
  {
   "cell_type": "code",
   "execution_count": null,
   "metadata": {},
   "outputs": [],
   "source": [
    "for person in people:\n",
    "    person.listen_and_act(eval_request_msg)\n",
    "    print(\"---------------------\")"
   ]
  },
  {
   "cell_type": "code",
   "execution_count": null,
   "metadata": {},
   "outputs": [],
   "source": [
    "extractor = ResultsExtractor()\n",
    "extraction_objective=\"Find the ad the agent chose. Extract the Ad number and title. Extract only ONE result.\"\n",
    "\n",
    "choices =[]\n",
    "\n",
    "for person in people:\n",
    "    res = extractor.extract_results_from_agent(person,\n",
    "                                    extraction_objective=extraction_objective,\n",
    "                                    situation=situation,\n",
    "                                    fields=[\"ad_number\", \"ad_title\"],\n",
    "                                    fields_hints={\"ad_number\": \"Must be an integer, not a string.\"},\n",
    "                                    verbose=True)\n",
    "\n",
    "    choices.append(res)"
   ]
  },
  {
   "cell_type": "code",
   "execution_count": null,
   "metadata": {},
   "outputs": [],
   "source": [
    "choices"
   ]
  },
  {
   "cell_type": "code",
   "execution_count": null,
   "metadata": {},
   "outputs": [],
   "source": [
    "votes = {}\n",
    "for choice in choices:\n",
    "    print(f\"{choice['ad_number']}: {choice['ad_title']}\")\n",
    "\n",
    "    ad_number = choice['ad_number']\n",
    "    if ad_number not in votes:\n",
    "        votes[ad_number] = 0\n",
    "    votes[ad_number] += 1"
   ]
  },
  {
   "cell_type": "code",
   "execution_count": null,
   "metadata": {},
   "outputs": [],
   "source": [
    "votes"
   ]
  },
  {
   "cell_type": "markdown",
   "metadata": {},
   "source": [
    "Finally, we pick the winner ad."
   ]
  },
  {
   "cell_type": "code",
   "execution_count": null,
   "metadata": {},
   "outputs": [],
   "source": [
    "# picks the most voted ad\n",
    "winner = max(votes, key=votes.get)\n",
    "winner"
   ]
  }
 ],
 "metadata": {
  "kernelspec": {
   "display_name": "tinytroupe",
   "language": "python",
   "name": "python3"
  },
  "language_info": {
   "codemirror_mode": {
    "name": "ipython",
    "version": 3
   },
   "file_extension": ".py",
   "mimetype": "text/x-python",
   "name": "python",
   "nbconvert_exporter": "python",
   "pygments_lexer": "ipython3",
   "version": "3.10.16"
  },
  "orig_nbformat": 4
 },
 "nbformat": 4,
 "nbformat_minor": 2
}
